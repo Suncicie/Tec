{
 "cells": [
  {
   "cell_type": "code",
   "execution_count": 56,
   "metadata": {
    "collapsed": true
   },
   "outputs": [],
   "source": [
    "# import zipfile\n",
    "# import os\n",
    "# os.chdir(\"/Users/Suncicie/Study/DataMining/Competition/Tecent\")# 将当前目录更换到此目录下\n",
    "# print os.getcwd()\n",
    "# import pandas as pd\n",
    "# from scipy import sparse\n",
    "# from sklearn.preprocessing import OneHotEncoder\n",
    "# from sklearn.linear_model import LogisticRegression\n",
    "import numpy as np"
   ]
  },
  {
   "cell_type": "code",
   "execution_count": 7,
   "metadata": {},
   "outputs": [],
   "source": [
    "# get base feature\n",
    "# load data\n",
    "data_root = \"dataset/pre\"\n",
    "dfTrain = pd.read_csv(\"%s/train.csv\"%data_root)\n",
    "dfTest = pd.read_csv(\"%s/test.csv\"%data_root)\n",
    "dfAd = pd.read_csv(\"%s/ad.csv\"%data_root)\n",
    "dfUser=pd.read_csv(\"%s/user.csv\"%data_root)\n",
    "dfApcat=pd.read_csv(\"%s/app_categories.csv\"%data_root)\n",
    "dfPostion=pd.read_csv(\"%s/position.csv\"%data_root)\n",
    "dfUserInstalledApps=pd.read_csv(\"%s/user_installedapps.csv\"%data_root)\n",
    "dfUserInstallAction=pd.read_csv(\"%s/user_app_actions.csv\"%data_root)"
   ]
  },
  {
   "cell_type": "code",
   "execution_count": 8,
   "metadata": {},
   "outputs": [
    {
     "name": "stdout",
     "output_type": "stream",
     "text": [
      "Index([u'label', u'clickTime', u'conversionTime', u'creativeID', u'userID',\n       u'positionID', u'connectionType', u'telecomsOperator'],\n      dtype='object')\n"
     ]
    }
   ],
   "source": [
    "print dfTrain.columns"
   ]
  },
  {
   "cell_type": "code",
   "execution_count": 11,
   "metadata": {
    "collapsed": true
   },
   "outputs": [],
   "source": [
    "# merge all direct feature\n",
    "# dfTrain = pd.merge(dfTrain, dfAd, on=\"creativeID\")\n",
    "# dfTrain= pd.merge(dfTrain,dfUser,on=\"userID\",how=\"left\")\n",
    "# dfTrain = pd.merge(dfTrain,dfApcat,on=\"appID\",how=\"left\")\n",
    "\n",
    "\n",
    "dfTrain=pd.merge(dfTrain,dfPostion,on=\"positionID\",how=\"left\")\n",
    "\n",
    "dfTest = pd.merge(dfTest, dfAd, on=\"creativeID\")\n",
    "dfTest=pd.merge(dfTest,dfUser,on=\"userID\",how=\"left\")\n",
    "dfTest = pd.merge(dfTest,dfApcat,on=\"appID\",how=\"left\")\n",
    "dfTest = pd.merge(dfTest,dfPostion,on=\"positionID\",how=\"left\")"
   ]
  },
  {
   "cell_type": "code",
   "execution_count": 125,
   "metadata": {},
   "outputs": [
    {
     "name": "stdout",
     "output_type": "stream",
     "text": [
      "Index([u'instanceID', u'label', u'clickTime', u'creativeID', u'userID',\n       u'positionID', u'connectionType', u'telecomsOperator', u'adID',\n       u'camgaignID', u'advertiserID', u'appID', u'appPlatform', u'age',\n       u'gender', u'education', u'marriageStatus', u'haveBaby', u'hometown',\n       u'residence', u'appCategory', u'sitesetID', u'positionType'],\n      dtype='object')\n<class 'pandas.core.frame.DataFrame'>\n"
     ]
    }
   ],
   "source": [
    "# origin_train=dfTrain\n",
    "# origin_test=dfTest\n",
    "# \n",
    "# dfTrain=origin_train\n",
    "dfTest=origin_test\n",
    "print dfTest.columns\n",
    "print type(dfTest)"
   ]
  },
  {
   "cell_type": "code",
   "execution_count": 127,
   "metadata": {
    "collapsed": true
   },
   "outputs": [
    {
     "name": "stdout",
     "output_type": "stream",
     "text": [
      "   instanceID  label  clickTime  creativeID   userID  positionID  \\\n0           1     -1     310000        3745  1164848        3451   \n1           9     -1     310000        3745  1113275        3347   \n2          43     -1     310000        3745  1215329        3347   \n3          83     -1     310000        3745  2077956        3347   \n4         108     -1     310000        3745  2343346        7422   \n\n   connectionType  telecomsOperator  adID  camgaignID    ...     gender  \\\n0               1                 3  1166         430    ...          2   \n1               1                 2  1166         430    ...          2   \n2               1                 1  1166         430    ...          2   \n3               1                 2  1166         430    ...          2   \n4               1                 1  1166         430    ...          2   \n\n   education  marriageStatus  haveBaby  hometown  residence  appCategory  \\\n0          1               0         1       605        605            2   \n1          3               0         1       510        504            2   \n2          2               2         1       504        504            2   \n3          1               2         1      1610       1610            2   \n4          3               2         0         0       1303            2   \n\n   sitesetID  positionType  appCount  \n0          0             1      34.0  \n1          0             1      66.0  \n2          0             1      56.0  \n3          0             1      56.0  \n4          0             1      56.0  \n\n[5 rows x 24 columns]\n"
     ]
    }
   ],
   "source": [
    "#  create user install apps count\n",
    "# UserInstallAppCount=dfUserInstalledApps[\"appID\"].groupby(dfUserInstalledApps[\"userID\"]).count()\n",
    "# print UserInstallAppCount.head()\n",
    "UserInstallAppCount.to_csv(\"dataset/pre/temp/UserInstallAppCount.csv\")\n",
    "UserInstallAppCount=pd.read_csv(\"dataset/pre/temp/UserInstallAppCount.csv\",names=[\"userID\",\"appCount\"])\n",
    "# print UserInstallAppCount.head()\n",
    "# dfTrain=pd.merge(dfTrain,UserInstallAppCount,on=\"userID\",how=\"left\")\n",
    "dfTest=pd.merge(dfTest,UserInstallAppCount,on=\"userID\",how=\"left\")\n",
    "# print dfTrain.columns\n",
    "# missingData=dfTrain[\"appCount\"].mean()\n",
    "missingDataTest=dfTest[\"appCount\"].mean()\n",
    "# missingData=int(missingData)\n",
    "missingDataTest=int(missingDataTest)\n",
    "# print missingData\n",
    "# print missingDataTest\n",
    "\n",
    "# dfTrain[\"appCount\"]=dfTrain[\"appCount\"].fillna(missingData)\n",
    "\n",
    "dfTest[\"appCount\"]=dfTest[\"appCount\"].fillna(missingDataTest)\n",
    "# print dfTrain[\"appCount\"].isnull().unique()\n",
    "# print dfTest[\"appCount\"].isnull().unique()\n",
    "# print dfTrain[\"appCount\"].head()\n",
    "# print dfTest[\"appCount\"].head()\n",
    "print dfTest.head()\n",
    "# print dfTrain.head()"
   ]
  },
  {
   "cell_type": "code",
   "execution_count": 134,
   "metadata": {},
   "outputs": [
    {
     "name": "stdout",
     "output_type": "stream",
     "text": [
      "userID\n1     [201, 409, 301, 203, 503, 407, 0, 103, 406, 20...\n9                                       [301, 503, 210]\n10    [201, 203, 301, 2, 407, 0, 103, 402, 503, 405,...\n12          [407, 0, 301, 103, 409, 403, 209, 408, 402]\n14    [409, 407, 0, 301, 103, 503, 106, 401, 403, 20...\nName: appCategory, dtype: object\n"
     ]
    }
   ],
   "source": [
    "print UserInstalledAppCatOrigin.head()"
   ]
  },
  {
   "cell_type": "code",
   "execution_count": 140,
   "metadata": {
    "collapsed": true
   },
   "outputs": [],
   "source": [
    "# get feature have installed appcategory\n",
    "# UserInstalledAppCat=pd.merge(dfUserInstalledApps,dfApcat,on=\"appID\",how=\"left\")\n",
    "# UserInstalledAppCat100=UserInstalledAppCat.ix[0:150,]\n",
    "# print UserInstalledAppCat100\n",
    "# UserInstalledAppCatOrigin=UserInstalledAppCat[\"appCategory\"].groupby(UserInstalledAppCat[\"userID\"]).unique()\n",
    "\n",
    "\n",
    "# UserInstallAppCountOriginDF=pd.DataFrame(index=UserInstalledAppCatOrigin.index,data=UserInstalledAppCatOrigin)\n",
    "# UserInstallAppCountOriginDF.columns=[\"appSet\"]\n",
    "# UserInstallAppCountOriginDF[\"userID\"]=UserInstalledAppCatOrigin.index\n",
    "# print UserInstalledAppCatOriginDF.head()\n",
    "# dfTestTemp=pd.merge(dfTest,UserInstalledAppCatOriginDF,how=\"left\",on=\"userID\")\n",
    "# dfTrainTemp=pd.merge(dfTrain,UserInstallAppCountOriginDF,how=\"left\",on=\"userID\")\n",
    "# # print dfTestTemp.head()\n",
    "# print dfTrainTemp.head()\n",
    "\n",
    "# def change(userInfo):\n",
    "#     # userID=userInfo[\"userID\"]\n",
    "#     appCategory=userInfo[\"appCategory\"]\n",
    "#     appSet=userInfo[\"appSet\"]\n",
    "#     # print type(appSet)\n",
    "#     if type(appSet)==float:\n",
    "#         return np.NaN\n",
    "#     else:\n",
    "#         return int(appCategory in appSet)\n",
    "# \n",
    "# # # # print dfTestHead.columns\n",
    "# # dfTestTemp[\"HaveAppCat\"]=dfTestTemp[[\"appCategory\",\"appSet\"]].apply(change,axis=1)\n",
    "# dfTrainTemp[\"HaveAppCat\"]=dfTrainTemp[[\"appCategory\",\"appSet\"]].apply(change,axis=1)\n",
    "# # print dfTestTemp[\"HaveAppCat\"].head()\n",
    "# # print len(dfTestTemp)\n",
    "# print dfTestTemp[\"HaveAppCat\"].value_counts()\n",
    "# print dfTestTemp[dfTestTemp[\"HaveAppCat\"]==0].count()\n",
    "# print dfTestTemp[dfTestTemp[\"HaveAppCat\"]==1].count()\n",
    "# print dfTestTemp[\"HaveAppCat\"].count()\n",
    "\n",
    "# dfTestTemp[\"HaveAppCat\"]=dfTestTemp[\"HaveAppCat\"].fillna(1)\n",
    "# dfTrainTemp[\"HaveAppCat\"]=dfTrainTemp[\"HaveAppCat\"].fillna(1)\n",
    "# print dfTestTemp.columns\n",
    "# dfTest=dfTestTemp\n",
    "# print dfTrainTemp.head()\n",
    "dfTrain=dfTrainTemp\n",
    "# # dfTest.to_csv(\"dataset/pre/temp/dfTest.csv\")\n",
    "dfTrain.to_csv(\"dataset/pre/temp/dfTrain.csv\")"
   ]
  },
  {
   "cell_type": "code",
   "execution_count": null,
   "metadata": {},
   "outputs": [],
   "source": [
    "y_train = dfTrain[\"label\"].values\n",
    "# feature engineering/encoding\n",
    "enc = OneHotEncoder()\n",
    "feats = [\"creativeID\", \"adID\", \"camgaignID\", \"advertiserID\", \"appID\", \"appPlatform\",\"appCategory\",\"positionID\",\n",
    "         \"sitesetID\",\"positionType\",\"age\",\"gender\",\"education\",\"marriageStatus\",\"haveBaby\",\"hometown\",\"residence\",\n",
    "         \"connectionType\",\"appCount\",\"telecomsOperator\"]\n",
    "for i,feat in enumerate(feats):\n",
    "    print feat\n",
    "    x_train = enc.fit_transform(dfTrain[feat].values.reshape(-1, 1))\n",
    "    x_test = enc.transform(dfTest[feat].values.reshape(-1, 1))\n",
    "    if i == 0:\n",
    "        X_train, X_test = x_train, x_test\n",
    "    else:\n",
    "        X_train, X_test = sparse.hstack((X_train, x_train)), sparse.hstack((X_test, x_test))\n",
    "\n",
    "# model training\n",
    "lr = LogisticRegression()\n",
    "lr.fit(X_train, y_train)\n",
    "proba_test = lr.predict_proba(X_test)[:,1]"
   ]
  },
  {
   "cell_type": "code",
   "execution_count": null,
   "metadata": {},
   "outputs": [],
   "source": [
    "# submission\n",
    "df = pd.DataFrame({\"instanceID\": dfTest[\"instanceID\"].values, \"proba\": proba_test})\n",
    "df.sort_values(\"instanceID\", inplace=True)\n",
    "df.to_csv(\"submission0606_1.csv\", index=False)\n",
    "with zipfile.ZipFile(\"submission_0606_1.zip\", \"w\") as fout:\n",
    "    fout.write(\"submission0606_1.csv\", compress_type=zipfile.ZIP_DEFLATED)"
   ]
  }
 ],
 "metadata": {
  "kernelspec": {
   "display_name": "Python 2",
   "language": "python",
   "name": "python2"
  },
  "language_info": {
   "codemirror_mode": {
    "name": "ipython",
    "version": 2.0
   },
   "file_extension": ".py",
   "mimetype": "text/x-python",
   "name": "python",
   "nbconvert_exporter": "python",
   "pygments_lexer": "ipython2",
   "version": "2.7.13"
  }
 },
 "nbformat": 4,
 "nbformat_minor": 0
}