{
 "cells": [
  {
   "cell_type": "code",
   "execution_count": 1,
   "metadata": {
    "collapsed": true
   },
   "outputs": [
    {
     "name": "stdout",
     "output_type": "stream",
     "text": [
      "/Users/suncicie/Study/Project/DataMining/Competition/Tecent\n"
     ]
    }
   ],
   "source": [
    "import pandas as pd\n",
    "import os\n",
    "os.chdir(\"/Users/suncicie/Study/Project/DataMining/Competition/Tecent\")# 将当前目录更换到此目录下\n",
    "print os.getcwd()"
   ]
  },
  {
   "cell_type": "code",
   "execution_count": 24,
   "metadata": {},
   "outputs": [],
   "source": [
    "# read data\n",
    "# connect train and user information by userID\n",
    "train=pd.read_csv(\"dataset/pre/train.csv\")\n",
    "user=pd.read_csv(\"dataset/pre/user.csv\")"
   ]
  },
  {
   "cell_type": "code",
   "execution_count": 47,
   "metadata": {
    "collapsed": true
   },
   "outputs": [
    {
     "name": "stdout",
     "output_type": "stream",
     "text": [
      "   positionID  sitesetID  positionType\n0        2150          1             0\n1        2579          1             0\n2        3322          1             0\n3        5726          1             0\n4        4522          2             0\n"
     ]
    }
   ],
   "source": [
    "position=pd.read_csv(\"dataset/pre/position.csv\")\n",
    "print position.head()"
   ]
  },
  {
   "cell_type": "code",
   "execution_count": 25,
   "metadata": {},
   "outputs": [],
   "source": [
    "test=pd.read_csv(\"dataset/pre/test.csv\")"
   ]
  },
  {
   "cell_type": "code",
   "execution_count": 50,
   "metadata": {},
   "outputs": [],
   "source": [
    "ad=pd.read_csv(\"dataset/pre/ad.csv\")"
   ]
  },
  {
   "cell_type": "code",
   "execution_count": 28,
   "metadata": {},
   "outputs": [],
   "source": [
    "del test[\"label\"]\n",
    "del train[\"conversionTime\"]"
   ]
  },
  {
   "cell_type": "code",
   "execution_count": 33,
   "metadata": {
    "collapsed": true
   },
   "outputs": [
    {
     "name": "stdout",
     "output_type": "stream",
     "text": [
      "   label  clickTime  creativeID   userID  positionID  connectionType  \\\n0      0     170000        3089  2798058         293               1   \n1      0     170000        1259   463234        6161               1   \n2      0     170000        4465  1857485        7434               4   \n3      0     170000        1004  2038823         977               1   \n4      0     170000        1887  2015141        3688               1   \n\n   telecomsOperator  age  gender  education  marriageStatus  haveBaby  \\\n0                 1   25       2          1               3         1   \n1                 2   20       2          1               1         0   \n2                 1   16       1          1               0         0   \n3                 1    0       0          0               0         0   \n4                 1   35       1          2               2         0   \n\n   hometown  residence  \n0         0       1301  \n1         0        213  \n2         0       1502  \n3         0       1001  \n4      1001       1001  \n"
     ]
    }
   ],
   "source": [
    "m_train_user=pd.merge(train,user,how=\"left\",on=\"userID\")\n",
    "print m_train_user.head()"
   ]
  },
  {
   "cell_type": "code",
   "execution_count": 34,
   "metadata": {},
   "outputs": [],
   "source": [
    "m_test_user=pd.merge(test,user,how=\"left\",on=\"userID\")"
   ]
  },
  {
   "cell_type": "code",
   "execution_count": 48,
   "metadata": {
    "collapsed": true
   },
   "outputs": [
    {
     "ename": "TypeError",
     "evalue": "unhashable type",
     "traceback": [
      "\u001b[0;31m---------------------------------------------------------------------------\u001b[0m",
      "\u001b[0;31mTypeError\u001b[0m                                 Traceback (most recent call last)",
      "\u001b[0;32m<ipython-input-48-310cf79286d1>\u001b[0m in \u001b[0;36m<module>\u001b[0;34m()\u001b[0m\n\u001b[1;32m      1\u001b[0m \u001b[0mm_train_user_position\u001b[0m\u001b[0;34m=\u001b[0m\u001b[0mpd\u001b[0m\u001b[0;34m.\u001b[0m\u001b[0mmerge\u001b[0m\u001b[0;34m(\u001b[0m\u001b[0mm_train_user\u001b[0m\u001b[0;34m,\u001b[0m\u001b[0mposition\u001b[0m\u001b[0;34m,\u001b[0m\u001b[0mhow\u001b[0m\u001b[0;34m=\u001b[0m\u001b[0;34m\"left\"\u001b[0m\u001b[0;34m,\u001b[0m\u001b[0mon\u001b[0m\u001b[0;34m=\u001b[0m\u001b[0;34m\"positionID\"\u001b[0m\u001b[0;34m)\u001b[0m\u001b[0;34m\u001b[0m\u001b[0m\n\u001b[1;32m      2\u001b[0m \u001b[0mm_test_user_position\u001b[0m\u001b[0;34m=\u001b[0m\u001b[0mpd\u001b[0m\u001b[0;34m.\u001b[0m\u001b[0mmerge\u001b[0m\u001b[0;34m(\u001b[0m\u001b[0mm_test_user\u001b[0m\u001b[0;34m,\u001b[0m\u001b[0mposition\u001b[0m\u001b[0;34m,\u001b[0m\u001b[0mhow\u001b[0m\u001b[0;34m=\u001b[0m\u001b[0;34m\"left\"\u001b[0m\u001b[0;34m,\u001b[0m\u001b[0mon\u001b[0m\u001b[0;34m=\u001b[0m\u001b[0;34m\"positionID\"\u001b[0m\u001b[0;34m)\u001b[0m\u001b[0;34m\u001b[0m\u001b[0m\n\u001b[0;32m----> 3\u001b[0;31m \u001b[0;32mprint\u001b[0m \u001b[0mm_test_user_position\u001b[0m\u001b[0;34m[\u001b[0m\u001b[0;36m50\u001b[0m\u001b[0;34m:\u001b[0m\u001b[0;36m100\u001b[0m\u001b[0;34m,\u001b[0m\u001b[0;34m]\u001b[0m\u001b[0;34m\u001b[0m\u001b[0m\n\u001b[0m",
      "\u001b[0;32m/Users/suncicie/anaconda/lib/python2.7/site-packages/pandas/core/frame.pyc\u001b[0m in \u001b[0;36m__getitem__\u001b[0;34m(self, key)\u001b[0m\n\u001b[1;32m   2057\u001b[0m             \u001b[0;32mreturn\u001b[0m \u001b[0mself\u001b[0m\u001b[0;34m.\u001b[0m\u001b[0m_getitem_multilevel\u001b[0m\u001b[0;34m(\u001b[0m\u001b[0mkey\u001b[0m\u001b[0;34m)\u001b[0m\u001b[0;34m\u001b[0m\u001b[0m\n\u001b[1;32m   2058\u001b[0m         \u001b[0;32melse\u001b[0m\u001b[0;34m:\u001b[0m\u001b[0;34m\u001b[0m\u001b[0m\n\u001b[0;32m-> 2059\u001b[0;31m             \u001b[0;32mreturn\u001b[0m \u001b[0mself\u001b[0m\u001b[0;34m.\u001b[0m\u001b[0m_getitem_column\u001b[0m\u001b[0;34m(\u001b[0m\u001b[0mkey\u001b[0m\u001b[0;34m)\u001b[0m\u001b[0;34m\u001b[0m\u001b[0m\n\u001b[0m\u001b[1;32m   2060\u001b[0m \u001b[0;34m\u001b[0m\u001b[0m\n\u001b[1;32m   2061\u001b[0m     \u001b[0;32mdef\u001b[0m \u001b[0m_getitem_column\u001b[0m\u001b[0;34m(\u001b[0m\u001b[0mself\u001b[0m\u001b[0;34m,\u001b[0m \u001b[0mkey\u001b[0m\u001b[0;34m)\u001b[0m\u001b[0;34m:\u001b[0m\u001b[0;34m\u001b[0m\u001b[0m\n",
      "\u001b[0;32m/Users/suncicie/anaconda/lib/python2.7/site-packages/pandas/core/frame.pyc\u001b[0m in \u001b[0;36m_getitem_column\u001b[0;34m(self, key)\u001b[0m\n\u001b[1;32m   2064\u001b[0m         \u001b[0;31m# get column\u001b[0m\u001b[0;34m\u001b[0m\u001b[0;34m\u001b[0m\u001b[0m\n\u001b[1;32m   2065\u001b[0m         \u001b[0;32mif\u001b[0m \u001b[0mself\u001b[0m\u001b[0;34m.\u001b[0m\u001b[0mcolumns\u001b[0m\u001b[0;34m.\u001b[0m\u001b[0mis_unique\u001b[0m\u001b[0;34m:\u001b[0m\u001b[0;34m\u001b[0m\u001b[0m\n\u001b[0;32m-> 2066\u001b[0;31m             \u001b[0;32mreturn\u001b[0m \u001b[0mself\u001b[0m\u001b[0;34m.\u001b[0m\u001b[0m_get_item_cache\u001b[0m\u001b[0;34m(\u001b[0m\u001b[0mkey\u001b[0m\u001b[0;34m)\u001b[0m\u001b[0;34m\u001b[0m\u001b[0m\n\u001b[0m\u001b[1;32m   2067\u001b[0m \u001b[0;34m\u001b[0m\u001b[0m\n\u001b[1;32m   2068\u001b[0m         \u001b[0;31m# duplicate columns & possible reduce dimensionality\u001b[0m\u001b[0;34m\u001b[0m\u001b[0;34m\u001b[0m\u001b[0m\n",
      "\u001b[0;32m/Users/suncicie/anaconda/lib/python2.7/site-packages/pandas/core/generic.pyc\u001b[0m in \u001b[0;36m_get_item_cache\u001b[0;34m(self, item)\u001b[0m\n\u001b[1;32m   1382\u001b[0m         \u001b[0;34m\"\"\"Return the cached item, item represents a label indexer.\"\"\"\u001b[0m\u001b[0;34m\u001b[0m\u001b[0m\n\u001b[1;32m   1383\u001b[0m         \u001b[0mcache\u001b[0m \u001b[0;34m=\u001b[0m \u001b[0mself\u001b[0m\u001b[0;34m.\u001b[0m\u001b[0m_item_cache\u001b[0m\u001b[0;34m\u001b[0m\u001b[0m\n\u001b[0;32m-> 1384\u001b[0;31m         \u001b[0mres\u001b[0m \u001b[0;34m=\u001b[0m \u001b[0mcache\u001b[0m\u001b[0;34m.\u001b[0m\u001b[0mget\u001b[0m\u001b[0;34m(\u001b[0m\u001b[0mitem\u001b[0m\u001b[0;34m)\u001b[0m\u001b[0;34m\u001b[0m\u001b[0m\n\u001b[0m\u001b[1;32m   1385\u001b[0m         \u001b[0;32mif\u001b[0m \u001b[0mres\u001b[0m \u001b[0;32mis\u001b[0m \u001b[0mNone\u001b[0m\u001b[0;34m:\u001b[0m\u001b[0;34m\u001b[0m\u001b[0m\n\u001b[1;32m   1386\u001b[0m             \u001b[0mvalues\u001b[0m \u001b[0;34m=\u001b[0m \u001b[0mself\u001b[0m\u001b[0;34m.\u001b[0m\u001b[0m_data\u001b[0m\u001b[0;34m.\u001b[0m\u001b[0mget\u001b[0m\u001b[0;34m(\u001b[0m\u001b[0mitem\u001b[0m\u001b[0;34m)\u001b[0m\u001b[0;34m\u001b[0m\u001b[0m\n",
      "\u001b[0;31mTypeError\u001b[0m: unhashable type"
     ],
     "output_type": "error"
    }
   ],
   "source": [
    "m_train_user_position=pd.merge(m_train_user,position,how=\"left\",on=\"positionID\")\n",
    "m_test_user_position=pd.merge(m_test_user,position,how=\"left\",on=\"positionID\")\n"
   ]
  },
  {
   "cell_type": "code",
   "execution_count": 49,
   "metadata": {
    "collapsed": true
   },
   "outputs": [
    {
     "name": "stdout",
     "output_type": "stream",
     "text": [
      "    instanceID  clickTime  creativeID   userID  positionID  connectionType  \\\n50          51     310000        4565  1622025        2426               1   \n51          52     310000        1456   530184        3150               1   \n52          53     310000        4169  1709888        3347               1   \n53          54     310000        3636   202902        4292               1   \n54          55     310000         734  2051190        1787               1   \n55          56     310000        5058   218766        5510               1   \n56          57     310000        4169  1548765        6161               1   \n57          58     310000        4250  2469403        5875               1   \n58          59     310000        5534  2294169        7219               1   \n59          60     310000        1495  2135399        5960               1   \n60          61     310000        4327  2495709        2566               1   \n61          62     310000        2630  2728503        4522               0   \n62          63     310000        3293   213539        6161               1   \n63          64     310000        3305   608542        3688               1   \n64          65     310000        4250  1921583        6667               1   \n65          66     310000        4250  2306612        6627               1   \n66          67     310000        6489  1539560        3688               1   \n67          68     310000        2474  1766182        2426               1   \n68          69     310000         321  1054163        6905               2   \n69          70     310000        4250  2095274        6344               2   \n70          71     310000        2235   485390        5622               2   \n71          72     310000        5459  1560098        4113               1   \n72          73     310000        1926  1362600        5622               1   \n73          74     310000        5607  1890951        3688               1   \n74          75     310000        4565  2088525        5913               1   \n75          76     310000        4320    50843        3365               1   \n76          77     310000        4250   572169        4533               1   \n77          78     310000        1052   633418        3688               1   \n78          79     310000         167  1454116        1385               1   \n79          80     310000        1456  1007904        3150               1   \n80          81     310000        3465  1569284        2556               1   \n81          82     310000        4068  1305693        2600               1   \n82          83     310000        3745  2077956        3347               1   \n83          84     310000        4565   566396        4250               1   \n84          85     310000        2284   351992        1193               1   \n85          86     310000        3690  2267672        3557               1   \n86          87     310000        4250  1720175        5875               1   \n87          88     310000        4250  2659466        2426               2   \n88          89     310000        4565   848365        2426               2   \n89          90     310000        5534  2646081        7219               1   \n90          91     310000        4565    92116        2426               2   \n91          92     310000        4250  2005023        4113               2   \n92          93     310000        1570  1226385        3615               1   \n93          94     310000        3677   220119        7366               1   \n94          95     310000        2284   173965        3347               1   \n95          96     310000        6333  2650606        3322               1   \n96          97     310000        1259   977115        6161               1   \n97          98     310000        3824    90931        7466               1   \n98          99     310000        6008  2701308        3615               1   \n99         100     310000        1540  2080590        4867               1   \n\n    telecomsOperator  age  gender  education  marriageStatus  haveBaby  \\\n50                 3   42       1          2               2         0   \n51                 2   13       2          0               2         0   \n52                 2   24       1          1               1         0   \n53                 1    0       0          0               0         0   \n54                 3   26       2          0               0         0   \n55                 1   15       2          0               0         0   \n56                 2   19       1          2               1         0   \n57                 1    0       0          0               1         0   \n58                 1   16       1          0               0         0   \n59                 1   12       2          3               0         3   \n60                 1    0       1          0               0         0   \n61                 0   28       1          0               0         0   \n62                 1   22       2          4               0         1   \n63                 1    0       0          0               2         1   \n64                 1   33       1          2               2         0   \n65                 1   16       1          2               1         0   \n66                 1   16       2          2               0         0   \n67                 1   50       1          1               1         0   \n68                 1   25       2          3               0         1   \n69                 1   14       2          5               0         0   \n70                 1   26       1          1               0         0   \n71                 1   44       2          2               2         1   \n72                 1    0       2          4               0         0   \n73                 1   20       2          1               1         0   \n74                 3    0       2          0               0         1   \n75                 3   12       2          0               0         0   \n76                 1    0       2          4               0         1   \n77                 3   17       1          7               0         0   \n78                 3    0       1          3               0         0   \n79                 0   28       1          0               2         0   \n80                 3   15       2          2               1         0   \n81                 1   10       2          4               0         0   \n82                 2   33       2          1               2         1   \n83                 3   16       0          0               2         0   \n84                 1   24       2          3               3         1   \n85                 1   25       1          2               1         0   \n86                 1   46       1          0               2         1   \n87                 3   16       1          3               0         0   \n88                 1    0       0          2               1         0   \n89                 1   22       1          5               0         0   \n90                 3   24       1          2               1         0   \n91                 1   21       2          0               0         0   \n92                 2   15       2          0               0         0   \n93                 1    9       0          0               0         0   \n94                 2   28       2          6               0         0   \n95                 2   23       1          5               1         0   \n96                 2   23       2          1               0         1   \n97                 1   56       2          0               2         0   \n98                 3   58       2          0               2         1   \n99                 3   26       2          0               2         0   \n\n    hometown  residence  sitesetID  positionType  \n50         0        116          0             1  \n51       309        309          0             1  \n52      1405       1409          0             1  \n53         0        110          0             1  \n54         0          0          0             1  \n55      1601       1601          0             1  \n56       203        221          0             1  \n57         0          0          0             1  \n58         0       1301          0             3  \n59      2501       2504          0             1  \n60         0       1203          0             1  \n61         0          0          2             0  \n62       201        201          0             1  \n63         0        103          0             1  \n64      1606       1606          0             1  \n65      2106       2106          0             1  \n66      2004       2004          0             1  \n67      1303       1303          0             1  \n68       805        805          0             1  \n69       401        401          0             1  \n70      1704       1704          0             1  \n71         0        803          0             1  \n72       302        209          0             1  \n73      3101        602          0             1  \n74       209        209          0             1  \n75       401        409          0             1  \n76       206          0          0             1  \n77         0       2101          0             1  \n78         0       2102          0             1  \n79       213        209          0             1  \n80       313        316          0             1  \n81         0        209          0             2  \n82      1610       1610          0             1  \n83         0       2812          0             1  \n84       404       1601          0             1  \n85      1512       1512          0             2  \n86         0       1706          0             1  \n87       603       2504          0             1  \n88         0        105          0             1  \n89      1304        209          0             3  \n90      1101       1101          0             1  \n91         0       2006          0             1  \n92         0       1303          0             1  \n93         0        301          0             1  \n94      1608       1608          0             1  \n95         0       1001          1             0  \n96       701       1309          0             1  \n97         0       1201          0             2  \n98      2301          0          0             1  \n99         0          0          0             1  \n"
     ]
    }
   ],
   "source": [
    "print m_test_user_position[50:100]"
   ]
  },
  {
   "cell_type": "code",
   "execution_count": 51,
   "metadata": {
    "collapsed": true
   },
   "outputs": [
    {
     "name": "stdout",
     "output_type": "stream",
     "text": [
      "   instanceID  clickTime  creativeID   userID  positionID  connectionType  \\\n0           1     310000        3745  1164848        3451               1   \n1           2     310000        2284  2127247        1613               1   \n2           3     310000        1456  2769125        5510               2   \n3           4     310000        4565     9762        4113               2   \n4           5     310000          49  2513636        3615               1   \n\n   telecomsOperator  age  gender  education     ...       haveBaby  hometown  \\\n0                 3   29       2          1     ...              1       605   \n1                 3   23       2          6     ...              0      2205   \n2                 1   28       1          0     ...              0         0   \n3                 3   23       1          3     ...              0      2405   \n4                 3    9       2          4     ...              0       307   \n\n   residence  sitesetID  positionType  adID  camgaignID  advertiserID  appID  \\\n0        605          0             1  1166         430            80     14   \n1       2301          0             1  1388         325            80     14   \n2       1502          0             1  3379         411             3    465   \n3       2407          0             1  3593         632             3    465   \n4        307          0             1  1469         535            80     14   \n\n   appPlatform  \n0            2  \n1            2  \n2            1  \n3            1  \n4            2  \n\n[5 rows x 21 columns]\n"
     ]
    }
   ],
   "source": [
    "m_train_user_position_ad=pd.merge(m_train_user_position,ad,how=\"left\",on=\"creativeID\")\n",
    "m_test_user_position_ad=pd.merge(m_test_user_position,ad,how=\"left\",on=\"creativeID\")\n",
    "print m_test_user_position_ad.head()"
   ]
  },
  {
   "cell_type": "code",
   "execution_count": 57,
   "metadata": {},
   "outputs": [
    {
     "name": "stdout",
     "output_type": "stream",
     "text": [
      "21\nIndex([u'instanceID', u'clickTime', u'creativeID', u'userID', u'positionID',\n       u'connectionType', u'telecomsOperator', u'age', u'gender', u'education',\n       u'marriageStatus', u'haveBaby', u'hometown', u'residence', u'sitesetID',\n       u'positionType', u'adID', u'camgaignID', u'advertiserID', u'appID',\n       u'appPlatform'],\n      dtype='object')\n21\nIndex([u'label', u'clickTime', u'creativeID', u'userID', u'positionID',\n       u'connectionType', u'telecomsOperator', u'age', u'gender', u'education',\n       u'marriageStatus', u'haveBaby', u'hometown', u'residence', u'sitesetID',\n       u'positionType', u'adID', u'camgaignID', u'advertiserID', u'appID',\n       u'appPlatform'],\n      dtype='object')\n"
     ]
    }
   ],
   "source": [
    "print len(m_test_user_position_ad.columns)\n",
    "print m_test_user_position_ad.columns\n",
    "print len(m_train_user_position_ad.columns)\n",
    "print m_train_user_position_ad.columns"
   ]
  },
  {
   "cell_type": "code",
   "execution_count": 58,
   "metadata": {},
   "outputs": [],
   "source": [
    "# save the feature data frame\n",
    "m_train_user_position_ad.to_csv(\"dataset/pre/train_user_position_ad.csv\")\n",
    "m_test_user_position_ad.to_csv(\"dataset/pre/test_user_position_ad.csv\")"
   ]
  },
  {
   "cell_type": "code",
   "execution_count": 44,
   "metadata": {
    "collapsed": true
   },
   "outputs": [
    {
     "name": "stdout",
     "output_type": "stream",
     "text": [
      "   instanceID  clickTime  creativeID   userID  positionID  connectionType  \\\n0           1     310000        3745  1164848        3451               1   \n1           2     310000        2284  2127247        1613               1   \n2           3     310000        1456  2769125        5510               2   \n3           4     310000        4565     9762        4113               2   \n4           5     310000          49  2513636        3615               1   \n\n   telecomsOperator  age  gender  education  marriageStatus  haveBaby  \\\n0                 3   29       2          1               0         1   \n1                 3   23       2          6               1         0   \n2                 1   28       1          0               0         0   \n3                 3   23       1          3               3         0   \n4                 3    9       2          4               0         0   \n\n   hometown  residence  sitesetID  positionType  \n0       605        605        NaN           NaN  \n1      2205       2301        NaN           NaN  \n2         0       1502        NaN           NaN  \n3      2405       2407        NaN           NaN  \n4       307        307        NaN           NaN  \n   positionID  sitesetID  positionType\n0           0       2579        365045\n1           0       3322        322395\n2           0       2150        150136\n3           0       4867         92636\n4           0       3688         75995\n      positionID  sitesetID  positionType\n0              0       2579        365045\n1              0       3322        322395\n2              0       2150        150136\n3              0       4867         92636\n4              0       3688         75995\n5              0        675         61342\n6              0       3347         60790\n7              0       6086         60104\n8              0       3150         57762\n9              0       4250         48602\n10             0       4657         44119\n11             0       2426         39385\n12             0       2831         37792\n13             0       7619         37689\n14             0       4455         36004\n15             0       3789         35434\n16             0       1400         34604\n17             0       7149         34604\n18             0       2891         33248\n19             0       4292         31677\n20             0       7563         28928\n21             0       1923         26746\n22             0       4522         26643\n23             0        877         25528\n24             0       2868         23911\n25             0       5909         23718\n26             0       1385         23569\n27             0       6667         22799\n28             0       7434         22251\n29             0       5013         20691\n...          ...        ...           ...\n7137           0       7486             1\n7138           0       7491             1\n7139           0       7495             1\n7140           0       7504             1\n7141           0       7506             1\n7142           0       7510             1\n7143           0       7512             1\n7144           0       7518             1\n7145           0       7534             1\n7146           0       7535             1\n7147           0       7541             1\n7148           0       7543             1\n7149           0       7546             1\n7150           0       7548             1\n7151           0       7554             1\n7152           0       7556             1\n7153           0       7566             1\n7154           0       7567             1\n7155           0       7570             1\n7156           0       7572             1\n7157           0       7579             1\n7158           0       7586             1\n7159           0       7599             1\n7160           0       7602             1\n7161           0       7611             1\n7162           0       7627             1\n7163           0       7628             1\n7164           0       7636             1\n7165           0       7640             1\n7166           0       7644             1\n\n[7167 rows x 3 columns]\n[ nan]\n"
     ]
    }
   ],
   "source": [
    "print m_test_user_position.head()\n",
    "print position.head()\n",
    "print position[position[\"positionID\"]==0]\n",
    "print m_test_user_position[\"positionType\"].unique()"
   ]
  },
  {
   "cell_type": "code",
   "execution_count": 45,
   "metadata": {},
   "outputs": [
    {
     "name": "stdout",
     "output_type": "stream",
     "text": [
      "[0 1]\n"
     ]
    }
   ],
   "source": [
    "print position[\"positionID\"].unique()"
   ]
  },
  {
   "cell_type": "code",
   "execution_count": 29,
   "metadata": {},
   "outputs": [
    {
     "name": "stdout",
     "output_type": "stream",
     "text": [
      "3749528\n"
     ]
    }
   ],
   "source": [
    "print len(train)"
   ]
  },
  {
   "cell_type": "code",
   "execution_count": 30,
   "metadata": {
    "collapsed": true
   },
   "outputs": [
    {
     "name": "stdout",
     "output_type": "stream",
     "text": [
      "         label  clickTime  creativeID   userID  positionID  connectionType  \\\nuserID                                                                       \n2798058      0     272133          72  2351630        2150               1   \n463234       0     190401        5030   138221        2150               1   \n1857485      0     241737        4565  1554282        7434               2   \n2038823      0     251011        4565    70354         740               1   \n2015141      0     250816        4565   627363        2931               1   \n\n         telecomsOperator     userID   age  gender  education  marriageStatus  \\\nuserID                                                                          \n2798058                 3  2798059.0  12.0     2.0        3.0             1.0   \n463234                  1   463235.0  43.0     1.0        5.0             2.0   \n1857485                 1  1857486.0  15.0     2.0        2.0             0.0   \n2038823                 1  2038824.0  23.0     1.0        4.0             0.0   \n2015141                 1  2015142.0  26.0     1.0        1.0             1.0   \n\n         haveBaby  hometown  residence  \nuserID                                  \n2798058       0.0       0.0     1409.0  \n463234        0.0     602.0     2301.0  \n1857485       0.0     910.0      804.0  \n2038823       0.0       0.0     2102.0  \n2015141       0.0     701.0      702.0  \n"
     ]
    }
   ],
   "source": [
    "train_user=pd.concat([train,user],axis=1,join_axes=[train.userID])\n",
    "print train_user.head()"
   ]
  },
  {
   "cell_type": "code",
   "execution_count": 31,
   "metadata": {},
   "outputs": [],
   "source": [
    "test_user=pd.concat([test,user],axis=1,join_axes=[test.userID])"
   ]
  },
  {
   "cell_type": "code",
   "execution_count": 32,
   "metadata": {
    "collapsed": false
   },
   "outputs": [
    {
     "ename": "ValueError",
     "evalue": "Shape of passed values is (18, 4529343), indices imply (18, 3749528)",
     "traceback": [
      "\u001b[0;31m---------------------------------------------------------------------------\u001b[0m",
      "\u001b[0;31mValueError\u001b[0m                                Traceback (most recent call last)",
      "\u001b[0;32m<ipython-input-32-073e8b7e3f82>\u001b[0m in \u001b[0;36m<module>\u001b[0;34m()\u001b[0m\n\u001b[1;32m      1\u001b[0m \u001b[0mposition\u001b[0m\u001b[0;34m=\u001b[0m\u001b[0mpd\u001b[0m\u001b[0;34m.\u001b[0m\u001b[0mread_csv\u001b[0m\u001b[0;34m(\u001b[0m\u001b[0;34m\"dataset/pre/label_positionID.csv\"\u001b[0m\u001b[0;34m,\u001b[0m\u001b[0mnames\u001b[0m\u001b[0;34m=\u001b[0m\u001b[0;34m[\u001b[0m\u001b[0;34m\"positionID\"\u001b[0m\u001b[0;34m,\u001b[0m\u001b[0;34m\"sitesetID\"\u001b[0m\u001b[0;34m,\u001b[0m\u001b[0;34m\"positionType\"\u001b[0m\u001b[0;34m]\u001b[0m\u001b[0;34m)\u001b[0m\u001b[0;34m\u001b[0m\u001b[0m\n\u001b[0;32m----> 2\u001b[0;31m \u001b[0mtrain_user_position\u001b[0m\u001b[0;34m=\u001b[0m\u001b[0mpd\u001b[0m\u001b[0;34m.\u001b[0m\u001b[0mconcat\u001b[0m\u001b[0;34m(\u001b[0m\u001b[0;34m[\u001b[0m\u001b[0mtrain_user\u001b[0m\u001b[0;34m,\u001b[0m\u001b[0mposition\u001b[0m\u001b[0;34m]\u001b[0m\u001b[0;34m,\u001b[0m\u001b[0maxis\u001b[0m\u001b[0;34m=\u001b[0m\u001b[0;36m1\u001b[0m\u001b[0;34m,\u001b[0m\u001b[0mjoin_axes\u001b[0m\u001b[0;34m=\u001b[0m\u001b[0;34m[\u001b[0m\u001b[0mtrain_user\u001b[0m\u001b[0;34m.\u001b[0m\u001b[0mpositionID\u001b[0m\u001b[0;34m]\u001b[0m\u001b[0;34m)\u001b[0m\u001b[0;34m\u001b[0m\u001b[0m\n\u001b[0m\u001b[1;32m      3\u001b[0m \u001b[0mtest_user_position\u001b[0m\u001b[0;34m=\u001b[0m\u001b[0mpd\u001b[0m\u001b[0;34m.\u001b[0m\u001b[0mconcat\u001b[0m\u001b[0;34m(\u001b[0m\u001b[0;34m[\u001b[0m\u001b[0mtest_user\u001b[0m\u001b[0;34m,\u001b[0m\u001b[0mposition\u001b[0m\u001b[0;34m]\u001b[0m\u001b[0;34m,\u001b[0m\u001b[0maxis\u001b[0m\u001b[0;34m=\u001b[0m\u001b[0;36m1\u001b[0m\u001b[0;34m,\u001b[0m\u001b[0mjoin_axes\u001b[0m\u001b[0;34m=\u001b[0m\u001b[0;34m[\u001b[0m\u001b[0mtest_user\u001b[0m\u001b[0;34m.\u001b[0m\u001b[0mpositionID\u001b[0m\u001b[0;34m]\u001b[0m\u001b[0;34m)\u001b[0m\u001b[0;34m\u001b[0m\u001b[0m\n\u001b[1;32m      4\u001b[0m \u001b[0;32mprint\u001b[0m \u001b[0mtrain_user_position\u001b[0m\u001b[0;34m.\u001b[0m\u001b[0mhead\u001b[0m\u001b[0;34m(\u001b[0m\u001b[0;34m)\u001b[0m\u001b[0;34m\u001b[0m\u001b[0m\n",
      "\u001b[0;32m/Users/suncicie/anaconda/lib/python2.7/site-packages/pandas/tools/merge.pyc\u001b[0m in \u001b[0;36mconcat\u001b[0;34m(objs, axis, join, join_axes, ignore_index, keys, levels, names, verify_integrity, copy)\u001b[0m\n\u001b[1;32m   1450\u001b[0m                        \u001b[0mverify_integrity\u001b[0m\u001b[0;34m=\u001b[0m\u001b[0mverify_integrity\u001b[0m\u001b[0;34m,\u001b[0m\u001b[0;34m\u001b[0m\u001b[0m\n\u001b[1;32m   1451\u001b[0m                        copy=copy)\n\u001b[0;32m-> 1452\u001b[0;31m     \u001b[0;32mreturn\u001b[0m \u001b[0mop\u001b[0m\u001b[0;34m.\u001b[0m\u001b[0mget_result\u001b[0m\u001b[0;34m(\u001b[0m\u001b[0;34m)\u001b[0m\u001b[0;34m\u001b[0m\u001b[0m\n\u001b[0m\u001b[1;32m   1453\u001b[0m \u001b[0;34m\u001b[0m\u001b[0m\n\u001b[1;32m   1454\u001b[0m \u001b[0;34m\u001b[0m\u001b[0m\n",
      "\u001b[0;32m/Users/suncicie/anaconda/lib/python2.7/site-packages/pandas/tools/merge.pyc\u001b[0m in \u001b[0;36mget_result\u001b[0;34m(self)\u001b[0m\n\u001b[1;32m   1648\u001b[0m             new_data = concatenate_block_managers(\n\u001b[1;32m   1649\u001b[0m                 \u001b[0mmgrs_indexers\u001b[0m\u001b[0;34m,\u001b[0m \u001b[0mself\u001b[0m\u001b[0;34m.\u001b[0m\u001b[0mnew_axes\u001b[0m\u001b[0;34m,\u001b[0m \u001b[0mconcat_axis\u001b[0m\u001b[0;34m=\u001b[0m\u001b[0mself\u001b[0m\u001b[0;34m.\u001b[0m\u001b[0maxis\u001b[0m\u001b[0;34m,\u001b[0m\u001b[0;34m\u001b[0m\u001b[0m\n\u001b[0;32m-> 1650\u001b[0;31m                 copy=self.copy)\n\u001b[0m\u001b[1;32m   1651\u001b[0m             \u001b[0;32mif\u001b[0m \u001b[0;32mnot\u001b[0m \u001b[0mself\u001b[0m\u001b[0;34m.\u001b[0m\u001b[0mcopy\u001b[0m\u001b[0;34m:\u001b[0m\u001b[0;34m\u001b[0m\u001b[0m\n\u001b[1;32m   1652\u001b[0m                 \u001b[0mnew_data\u001b[0m\u001b[0;34m.\u001b[0m\u001b[0m_consolidate_inplace\u001b[0m\u001b[0;34m(\u001b[0m\u001b[0;34m)\u001b[0m\u001b[0;34m\u001b[0m\u001b[0m\n",
      "\u001b[0;32m/Users/suncicie/anaconda/lib/python2.7/site-packages/pandas/core/internals.pyc\u001b[0m in \u001b[0;36mconcatenate_block_managers\u001b[0;34m(mgrs_indexers, axes, concat_axis, copy)\u001b[0m\n\u001b[1;32m   4825\u001b[0m         placement=placement) for placement, join_units in concat_plan]\n\u001b[1;32m   4826\u001b[0m \u001b[0;34m\u001b[0m\u001b[0m\n\u001b[0;32m-> 4827\u001b[0;31m     \u001b[0;32mreturn\u001b[0m \u001b[0mBlockManager\u001b[0m\u001b[0;34m(\u001b[0m\u001b[0mblocks\u001b[0m\u001b[0;34m,\u001b[0m \u001b[0maxes\u001b[0m\u001b[0;34m)\u001b[0m\u001b[0;34m\u001b[0m\u001b[0m\n\u001b[0m\u001b[1;32m   4828\u001b[0m \u001b[0;34m\u001b[0m\u001b[0m\n\u001b[1;32m   4829\u001b[0m \u001b[0;34m\u001b[0m\u001b[0m\n",
      "\u001b[0;32m/Users/suncicie/anaconda/lib/python2.7/site-packages/pandas/core/internals.pyc\u001b[0m in \u001b[0;36m__init__\u001b[0;34m(self, blocks, axes, do_integrity_check, fastpath)\u001b[0m\n\u001b[1;32m   2759\u001b[0m \u001b[0;34m\u001b[0m\u001b[0m\n\u001b[1;32m   2760\u001b[0m         \u001b[0;32mif\u001b[0m \u001b[0mdo_integrity_check\u001b[0m\u001b[0;34m:\u001b[0m\u001b[0;34m\u001b[0m\u001b[0m\n\u001b[0;32m-> 2761\u001b[0;31m             \u001b[0mself\u001b[0m\u001b[0;34m.\u001b[0m\u001b[0m_verify_integrity\u001b[0m\u001b[0;34m(\u001b[0m\u001b[0;34m)\u001b[0m\u001b[0;34m\u001b[0m\u001b[0m\n\u001b[0m\u001b[1;32m   2762\u001b[0m \u001b[0;34m\u001b[0m\u001b[0m\n\u001b[1;32m   2763\u001b[0m         \u001b[0mself\u001b[0m\u001b[0;34m.\u001b[0m\u001b[0m_consolidate_check\u001b[0m\u001b[0;34m(\u001b[0m\u001b[0;34m)\u001b[0m\u001b[0;34m\u001b[0m\u001b[0m\n",
      "\u001b[0;32m/Users/suncicie/anaconda/lib/python2.7/site-packages/pandas/core/internals.pyc\u001b[0m in \u001b[0;36m_verify_integrity\u001b[0;34m(self)\u001b[0m\n\u001b[1;32m   2969\u001b[0m         \u001b[0;32mfor\u001b[0m \u001b[0mblock\u001b[0m \u001b[0;32min\u001b[0m \u001b[0mself\u001b[0m\u001b[0;34m.\u001b[0m\u001b[0mblocks\u001b[0m\u001b[0;34m:\u001b[0m\u001b[0;34m\u001b[0m\u001b[0m\n\u001b[1;32m   2970\u001b[0m             \u001b[0;32mif\u001b[0m \u001b[0mblock\u001b[0m\u001b[0;34m.\u001b[0m\u001b[0m_verify_integrity\u001b[0m \u001b[0;32mand\u001b[0m \u001b[0mblock\u001b[0m\u001b[0;34m.\u001b[0m\u001b[0mshape\u001b[0m\u001b[0;34m[\u001b[0m\u001b[0;36m1\u001b[0m\u001b[0;34m:\u001b[0m\u001b[0;34m]\u001b[0m \u001b[0;34m!=\u001b[0m \u001b[0mmgr_shape\u001b[0m\u001b[0;34m[\u001b[0m\u001b[0;36m1\u001b[0m\u001b[0;34m:\u001b[0m\u001b[0;34m]\u001b[0m\u001b[0;34m:\u001b[0m\u001b[0;34m\u001b[0m\u001b[0m\n\u001b[0;32m-> 2971\u001b[0;31m                 \u001b[0mconstruction_error\u001b[0m\u001b[0;34m(\u001b[0m\u001b[0mtot_items\u001b[0m\u001b[0;34m,\u001b[0m \u001b[0mblock\u001b[0m\u001b[0;34m.\u001b[0m\u001b[0mshape\u001b[0m\u001b[0;34m[\u001b[0m\u001b[0;36m1\u001b[0m\u001b[0;34m:\u001b[0m\u001b[0;34m]\u001b[0m\u001b[0;34m,\u001b[0m \u001b[0mself\u001b[0m\u001b[0;34m.\u001b[0m\u001b[0maxes\u001b[0m\u001b[0;34m)\u001b[0m\u001b[0;34m\u001b[0m\u001b[0m\n\u001b[0m\u001b[1;32m   2972\u001b[0m         \u001b[0;32mif\u001b[0m \u001b[0mlen\u001b[0m\u001b[0;34m(\u001b[0m\u001b[0mself\u001b[0m\u001b[0;34m.\u001b[0m\u001b[0mitems\u001b[0m\u001b[0;34m)\u001b[0m \u001b[0;34m!=\u001b[0m \u001b[0mtot_items\u001b[0m\u001b[0;34m:\u001b[0m\u001b[0;34m\u001b[0m\u001b[0m\n\u001b[1;32m   2973\u001b[0m             raise AssertionError('Number of manager items must equal union of '\n",
      "\u001b[0;32m/Users/suncicie/anaconda/lib/python2.7/site-packages/pandas/core/internals.pyc\u001b[0m in \u001b[0;36mconstruction_error\u001b[0;34m(tot_items, block_shape, axes, e)\u001b[0m\n\u001b[1;32m   4231\u001b[0m         \u001b[0;32mraise\u001b[0m \u001b[0mValueError\u001b[0m\u001b[0;34m(\u001b[0m\u001b[0;34m\"Empty data passed with indices specified.\"\u001b[0m\u001b[0;34m)\u001b[0m\u001b[0;34m\u001b[0m\u001b[0m\n\u001b[1;32m   4232\u001b[0m     raise ValueError(\"Shape of passed values is {0}, indices imply {1}\".format(\n\u001b[0;32m-> 4233\u001b[0;31m         passed, implied))\n\u001b[0m\u001b[1;32m   4234\u001b[0m \u001b[0;34m\u001b[0m\u001b[0m\n\u001b[1;32m   4235\u001b[0m \u001b[0;34m\u001b[0m\u001b[0m\n",
      "\u001b[0;31mValueError\u001b[0m: Shape of passed values is (18, 4529343), indices imply (18, 3749528)"
     ],
     "output_type": "error"
    }
   ],
   "source": [
    "position=pd.read_csv(\"dataset/pre/label_positionID.csv\",names=[\"positionID\",\"sitesetID\",\"positionType\"])\n",
    "train_user_position=pd.concat([train_user,position],axis=1,join_axes=[train_user.positionID])\n",
    "test_user_position=pd.concat([test_user,position],axis=1,join_axes=[test_user.positionID])\n",
    "print train_user_position.head()"
   ]
  },
  {
   "cell_type": "code",
   "execution_count": 11,
   "metadata": {},
   "outputs": [],
   "source": [
    "del train_user_position[\"conversionTime\"]"
   ]
  },
  {
   "cell_type": "code",
   "execution_count": null,
   "metadata": {},
   "outputs": [],
   "source": [
    ""
   ]
  },
  {
   "cell_type": "code",
   "execution_count": 9,
   "metadata": {},
   "outputs": [],
   "source": [
    "ad=pd.read_csv(\"dataset/pre/ad.csv\")"
   ]
  },
  {
   "cell_type": "code",
   "execution_count": 19,
   "metadata": {
    "collapsed": true
   },
   "outputs": [
    {
     "name": "stdout",
     "output_type": "stream",
     "text": [
      "   creativeID  adID  camgaignID  advertiserID  appID  appPlatform\n0        4079  2318         147            80     14            2\n1        4565  3593         632             3    465            1\n2        3170  1593         205            54    389            1\n3        6566  2390         205            54    389            1\n4        5187   411         564             3    465            1\n            label  clickTime  creativeID   userID  positionID  connectionType  \\\npositionID                                                                      \n293             0     170001        2137  1951154        2579               1   \n6161            0     170039        4565  2319911        3150               2   \n7434            0     170050        1537  1110272        7149               2   \n977             0     170005        2764  1265492        1385               1   \n3688            0     170023        1456  2409745        3789               2   \n\n            telecomsOperator  userID   age  gender  education  marriageStatus  \\\npositionID                                                                      \n293                        1   294.0  17.0     1.0        3.0             0.0   \n6161                       1  6162.0  14.0     2.0        2.0             0.0   \n7434                       2  7435.0  36.0     1.0        2.0             2.0   \n977                        1   978.0  17.0     1.0        1.0             1.0   \n3688                       1  3689.0  35.0     2.0        1.0             2.0   \n\n            haveBaby  hometown  residence  positionID  sitesetID  positionType  \npositionID                                                                      \n293              0.0     415.0      415.0           0       4533          1415  \n6161             0.0     606.0      606.0           0       3481             1  \n7434             1.0       0.0     1501.0           1       4570            28  \n977              0.0     509.0      509.0           0       5041           152  \n3688             0.0       0.0        0.0           0       3118             5  \n"
     ]
    }
   ],
   "source": [
    "print ad.head()\n",
    "print train_user_position.head()"
   ]
  },
  {
   "cell_type": "code",
   "execution_count": 20,
   "metadata": {},
   "outputs": [
    {
     "name": "stdout",
     "output_type": "stream",
     "text": [
      "<class 'pandas.core.frame.DataFrame'>\n"
     ]
    }
   ],
   "source": [
    "print type(train_user_position)"
   ]
  },
  {
   "cell_type": "code",
   "execution_count": 22,
   "metadata": {},
   "outputs": [],
   "source": [
    "train_user_position.to_csv(\"dataset/pre/train_user_position.csv\")"
   ]
  },
  {
   "cell_type": "code",
   "execution_count": 16,
   "metadata": {
    "collapsed": false
   },
   "outputs": [
    {
     "name": "stdout",
     "output_type": "stream",
     "text": [
      "3749528\n18\n"
     ]
    }
   ],
   "source": [
    "print len(train_user_position)\n",
    "print len(train_user_position.columns)"
   ]
  },
  {
   "cell_type": "code",
   "execution_count": 21,
   "metadata": {},
   "outputs": [
    {
     "ename": "KeyboardInterrupt",
     "evalue": "",
     "traceback": [
      "\u001b[0;31m---------------------------------------------------------------------------\u001b[0m",
      "\u001b[0;31mKeyboardInterrupt\u001b[0m                         Traceback (most recent call last)",
      "\u001b[0;32m<ipython-input-21-e86df06fd759>\u001b[0m in \u001b[0;36m<module>\u001b[0;34m()\u001b[0m\n\u001b[0;32m----> 1\u001b[0;31m \u001b[0mtrain_user_position_ad\u001b[0m\u001b[0;34m=\u001b[0m\u001b[0mpd\u001b[0m\u001b[0;34m.\u001b[0m\u001b[0mconcat\u001b[0m\u001b[0;34m(\u001b[0m\u001b[0;34m[\u001b[0m\u001b[0mtrain_user_position\u001b[0m\u001b[0;34m,\u001b[0m\u001b[0mad\u001b[0m\u001b[0;34m]\u001b[0m\u001b[0;34m,\u001b[0m\u001b[0maxis\u001b[0m\u001b[0;34m=\u001b[0m\u001b[0;36m1\u001b[0m\u001b[0;34m,\u001b[0m\u001b[0mjoin_axes\u001b[0m\u001b[0;34m=\u001b[0m\u001b[0;34m[\u001b[0m\u001b[0mtrain_user_position\u001b[0m\u001b[0;34m.\u001b[0m\u001b[0mcreativeID\u001b[0m\u001b[0;34m]\u001b[0m\u001b[0;34m)\u001b[0m\u001b[0;34m\u001b[0m\u001b[0m\n\u001b[0m\u001b[1;32m      2\u001b[0m \u001b[0;32mprint\u001b[0m \u001b[0mtrain_user_position_ad\u001b[0m\u001b[0;34m.\u001b[0m\u001b[0mhead\u001b[0m\u001b[0;34m(\u001b[0m\u001b[0;34m)\u001b[0m\u001b[0;34m\u001b[0m\u001b[0m\n",
      "\u001b[0;32m/Users/suncicie/anaconda/lib/python2.7/site-packages/pandas/tools/merge.pyc\u001b[0m in \u001b[0;36mconcat\u001b[0;34m(objs, axis, join, join_axes, ignore_index, keys, levels, names, verify_integrity, copy)\u001b[0m\n\u001b[1;32m   1450\u001b[0m                        \u001b[0mverify_integrity\u001b[0m\u001b[0;34m=\u001b[0m\u001b[0mverify_integrity\u001b[0m\u001b[0;34m,\u001b[0m\u001b[0;34m\u001b[0m\u001b[0m\n\u001b[1;32m   1451\u001b[0m                        copy=copy)\n\u001b[0;32m-> 1452\u001b[0;31m     \u001b[0;32mreturn\u001b[0m \u001b[0mop\u001b[0m\u001b[0;34m.\u001b[0m\u001b[0mget_result\u001b[0m\u001b[0;34m(\u001b[0m\u001b[0;34m)\u001b[0m\u001b[0;34m\u001b[0m\u001b[0m\n\u001b[0m\u001b[1;32m   1453\u001b[0m \u001b[0;34m\u001b[0m\u001b[0m\n\u001b[1;32m   1454\u001b[0m \u001b[0;34m\u001b[0m\u001b[0m\n",
      "\u001b[0;32m/Users/suncicie/anaconda/lib/python2.7/site-packages/pandas/tools/merge.pyc\u001b[0m in \u001b[0;36mget_result\u001b[0;34m(self)\u001b[0m\n\u001b[1;32m   1642\u001b[0m                     \u001b[0mobj_labels\u001b[0m \u001b[0;34m=\u001b[0m \u001b[0mmgr\u001b[0m\u001b[0;34m.\u001b[0m\u001b[0maxes\u001b[0m\u001b[0;34m[\u001b[0m\u001b[0max\u001b[0m\u001b[0;34m]\u001b[0m\u001b[0;34m\u001b[0m\u001b[0m\n\u001b[1;32m   1643\u001b[0m                     \u001b[0;32mif\u001b[0m \u001b[0;32mnot\u001b[0m \u001b[0mnew_labels\u001b[0m\u001b[0;34m.\u001b[0m\u001b[0mequals\u001b[0m\u001b[0;34m(\u001b[0m\u001b[0mobj_labels\u001b[0m\u001b[0;34m)\u001b[0m\u001b[0;34m:\u001b[0m\u001b[0;34m\u001b[0m\u001b[0m\n\u001b[0;32m-> 1644\u001b[0;31m                         \u001b[0mindexers\u001b[0m\u001b[0;34m[\u001b[0m\u001b[0max\u001b[0m\u001b[0;34m]\u001b[0m \u001b[0;34m=\u001b[0m \u001b[0mobj_labels\u001b[0m\u001b[0;34m.\u001b[0m\u001b[0mreindex\u001b[0m\u001b[0;34m(\u001b[0m\u001b[0mnew_labels\u001b[0m\u001b[0;34m)\u001b[0m\u001b[0;34m[\u001b[0m\u001b[0;36m1\u001b[0m\u001b[0;34m]\u001b[0m\u001b[0;34m\u001b[0m\u001b[0m\n\u001b[0m\u001b[1;32m   1645\u001b[0m \u001b[0;34m\u001b[0m\u001b[0m\n\u001b[1;32m   1646\u001b[0m                 \u001b[0mmgrs_indexers\u001b[0m\u001b[0;34m.\u001b[0m\u001b[0mappend\u001b[0m\u001b[0;34m(\u001b[0m\u001b[0;34m(\u001b[0m\u001b[0mobj\u001b[0m\u001b[0;34m.\u001b[0m\u001b[0m_data\u001b[0m\u001b[0;34m,\u001b[0m \u001b[0mindexers\u001b[0m\u001b[0;34m)\u001b[0m\u001b[0;34m)\u001b[0m\u001b[0;34m\u001b[0m\u001b[0m\n",
      "\u001b[0;32m/Users/suncicie/anaconda/lib/python2.7/site-packages/pandas/indexes/base.pyc\u001b[0m in \u001b[0;36mreindex\u001b[0;34m(self, target, method, level, limit, tolerance)\u001b[0m\n\u001b[1;32m   2543\u001b[0m                         raise ValueError(\"cannot reindex a non-unique index \"\n\u001b[1;32m   2544\u001b[0m                                          \"with a method or limit\")\n\u001b[0;32m-> 2545\u001b[0;31m                     \u001b[0mindexer\u001b[0m\u001b[0;34m,\u001b[0m \u001b[0mmissing\u001b[0m \u001b[0;34m=\u001b[0m \u001b[0mself\u001b[0m\u001b[0;34m.\u001b[0m\u001b[0mget_indexer_non_unique\u001b[0m\u001b[0;34m(\u001b[0m\u001b[0mtarget\u001b[0m\u001b[0;34m)\u001b[0m\u001b[0;34m\u001b[0m\u001b[0m\n\u001b[0m\u001b[1;32m   2546\u001b[0m \u001b[0;34m\u001b[0m\u001b[0m\n\u001b[1;32m   2547\u001b[0m         \u001b[0;32mif\u001b[0m \u001b[0mpreserve_names\u001b[0m \u001b[0;32mand\u001b[0m \u001b[0mtarget\u001b[0m\u001b[0;34m.\u001b[0m\u001b[0mnlevels\u001b[0m \u001b[0;34m==\u001b[0m \u001b[0;36m1\u001b[0m \u001b[0;32mand\u001b[0m \u001b[0mtarget\u001b[0m\u001b[0;34m.\u001b[0m\u001b[0mname\u001b[0m \u001b[0;34m!=\u001b[0m \u001b[0mself\u001b[0m\u001b[0;34m.\u001b[0m\u001b[0mname\u001b[0m\u001b[0;34m:\u001b[0m\u001b[0;34m\u001b[0m\u001b[0m\n",
      "\u001b[0;32m/Users/suncicie/anaconda/lib/python2.7/site-packages/pandas/indexes/base.pyc\u001b[0m in \u001b[0;36mget_indexer_non_unique\u001b[0;34m(self, target)\u001b[0m\n\u001b[1;32m   2378\u001b[0m             \u001b[0mtgt_values\u001b[0m \u001b[0;34m=\u001b[0m \u001b[0mtarget\u001b[0m\u001b[0;34m.\u001b[0m\u001b[0m_values\u001b[0m\u001b[0;34m\u001b[0m\u001b[0m\n\u001b[1;32m   2379\u001b[0m \u001b[0;34m\u001b[0m\u001b[0m\n\u001b[0;32m-> 2380\u001b[0;31m         \u001b[0mindexer\u001b[0m\u001b[0;34m,\u001b[0m \u001b[0mmissing\u001b[0m \u001b[0;34m=\u001b[0m \u001b[0mself\u001b[0m\u001b[0;34m.\u001b[0m\u001b[0m_engine\u001b[0m\u001b[0;34m.\u001b[0m\u001b[0mget_indexer_non_unique\u001b[0m\u001b[0;34m(\u001b[0m\u001b[0mtgt_values\u001b[0m\u001b[0;34m)\u001b[0m\u001b[0;34m\u001b[0m\u001b[0m\n\u001b[0m\u001b[1;32m   2381\u001b[0m         \u001b[0;32mreturn\u001b[0m \u001b[0mIndex\u001b[0m\u001b[0;34m(\u001b[0m\u001b[0mindexer\u001b[0m\u001b[0;34m)\u001b[0m\u001b[0;34m,\u001b[0m \u001b[0mmissing\u001b[0m\u001b[0;34m\u001b[0m\u001b[0m\n\u001b[1;32m   2382\u001b[0m \u001b[0;34m\u001b[0m\u001b[0m\n",
      "\u001b[0;32mpandas/index.pyx\u001b[0m in \u001b[0;36mpandas.index.IndexEngine.get_indexer_non_unique (pandas/index.c:7046)\u001b[0;34m()\u001b[0m\n",
      "\u001b[0;32m/Users/suncicie/anaconda/lib/python2.7/site-packages/numpy/core/fromnumeric.pyc\u001b[0m in \u001b[0;36mresize\u001b[0;34m(a, new_shape)\u001b[0m\n\u001b[1;32m   1152\u001b[0m         \u001b[0mextra\u001b[0m \u001b[0;34m=\u001b[0m \u001b[0mNa\u001b[0m\u001b[0;34m-\u001b[0m\u001b[0mextra\u001b[0m\u001b[0;34m\u001b[0m\u001b[0m\n\u001b[1;32m   1153\u001b[0m \u001b[0;34m\u001b[0m\u001b[0m\n\u001b[0;32m-> 1154\u001b[0;31m     \u001b[0ma\u001b[0m \u001b[0;34m=\u001b[0m \u001b[0mconcatenate\u001b[0m\u001b[0;34m(\u001b[0m\u001b[0;34m(\u001b[0m\u001b[0ma\u001b[0m\u001b[0;34m,\u001b[0m\u001b[0;34m)\u001b[0m\u001b[0;34m*\u001b[0m\u001b[0mn_copies\u001b[0m\u001b[0;34m)\u001b[0m\u001b[0;34m\u001b[0m\u001b[0m\n\u001b[0m\u001b[1;32m   1155\u001b[0m     \u001b[0;32mif\u001b[0m \u001b[0mextra\u001b[0m \u001b[0;34m>\u001b[0m \u001b[0;36m0\u001b[0m\u001b[0;34m:\u001b[0m\u001b[0;34m\u001b[0m\u001b[0m\n\u001b[1;32m   1156\u001b[0m         \u001b[0ma\u001b[0m \u001b[0;34m=\u001b[0m \u001b[0ma\u001b[0m\u001b[0;34m[\u001b[0m\u001b[0;34m:\u001b[0m\u001b[0;34m-\u001b[0m\u001b[0mextra\u001b[0m\u001b[0;34m]\u001b[0m\u001b[0;34m\u001b[0m\u001b[0m\n",
      "\u001b[0;31mKeyboardInterrupt\u001b[0m: "
     ],
     "output_type": "error"
    }
   ],
   "source": [
    "train_user_position_ad=pd.concat([train_user_position,ad],axis=1,join_axes=[train_user_position.creativeID])\n",
    "print train_user_position_ad.head()"
   ]
  },
  {
   "cell_type": "code",
   "execution_count": null,
   "metadata": {},
   "outputs": [],
   "source": [
    ""
   ]
  }
 ],
 "metadata": {
  "kernelspec": {
   "display_name": "Python 2",
   "language": "python",
   "name": "python2"
  },
  "language_info": {
   "codemirror_mode": {
    "name": "ipython",
    "version": 2.0
   },
   "file_extension": ".py",
   "mimetype": "text/x-python",
   "name": "python",
   "nbconvert_exporter": "python",
   "pygments_lexer": "ipython2",
   "version": "2.7.13"
  }
 },
 "nbformat": 4,
 "nbformat_minor": 0
}