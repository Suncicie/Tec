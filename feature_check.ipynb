{
 "cells": [
  {
   "cell_type": "code",
   "execution_count": 16,
   "metadata": {
    "collapsed": true
   },
   "outputs": [
    {
     "name": "stdout",
     "output_type": "stream",
     "text": [
      "/Users/suncicie/Study/Project/DataMining/Competition/Tecent\n"
     ]
    }
   ],
   "source": [
    "import pandas as pd\n",
    "import os\n",
    "os.chdir(\"/Users/suncicie/Study/Project/DataMining/Competition/Tecent\")# 将当前目录更换到此目录下\n",
    "print os.getcwd()"
   ]
  },
  {
   "cell_type": "code",
   "execution_count": 10,
   "metadata": {},
   "outputs": [],
   "source": [
    "import matplotlib.pyplot as plt"
   ]
  },
  {
   "cell_type": "code",
   "execution_count": 2,
   "metadata": {
    "collapsed": false
   },
   "outputs": [
    {
     "name": "stdout",
     "output_type": "stream",
     "text": [
      "   label  clickTime  conversionTime  creativeID   userID  positionID  \\\n0      0     170000             NaN        3089  2798058         293   \n1      0     170000             NaN        1259   463234        6161   \n2      0     170000             NaN        4465  1857485        7434   \n3      0     170000             NaN        1004  2038823         977   \n4      0     170000             NaN        1887  2015141        3688   \n\n   connectionType  telecomsOperator  \n0               1                 1  \n1               1                 2  \n2               4                 1  \n3               1                 1  \n4               1                 1  \n"
     ]
    }
   ],
   "source": [
    "# analyze the train.csv to find the different label have some diff points\n",
    "train=pd.read_csv(\"dataset/pre/train.csv\",header=0)\n",
    "train=pd.DataFrame(train)\n",
    "print train.head()"
   ]
  },
  {
   "cell_type": "code",
   "execution_count": 6,
   "metadata": {
    "collapsed": true
   },
   "outputs": [
    {
     "name": "stdout",
     "output_type": "stream",
     "text": [
      "label  connectionType  telecomsOperator\n0      0               0                      1752\n                       1                     26958\n                       2                     10711\n                       3                     14956\n       1               0                     85873\n                       1                   1510634\n                       2                    672095\n                       3                    645901\n       2               0                      7623\n                       1                    401751\n                       2                     39075\n                       3                     87012\n       3               0                      1003\n                       1                     80009\n                       2                      2326\n                       3                     25537\n       4               0                      1053\n                       1                     15434\n                       2                     17036\n                       3                      9527\n1      0               0                        19\n                       1                       120\n                       2                        23\n                       3                        47\n       1               0                      3090\n                       1                     41491\n                       2                     23556\n                       3                     19419\n       2               0                        99\n                       1                      3130\n                       2                       367\n                       3                       847\n       3               0                         8\n                       1                       542\n                       2                        77\n                       3                       146\n       4               0                        23\n                       1                        87\n                       2                        90\n                       3                        81\nName: connectionType, dtype: int64\n"
     ]
    }
   ],
   "source": [
    "groupByLabel=train.groupby([\"label\",\"connectionType\",\"telecomsOperator\"])[\"connectionType\"].count()\n",
    "print groupByLabel"
   ]
  },
  {
   "cell_type": "code",
   "execution_count": 3,
   "metadata": {
    "collapsed": true
   },
   "outputs": [
    {
     "name": "stdout",
     "output_type": "stream",
     "text": [
      "label  connectionType\n0      1                 2914503\n       2                  535461\n       3                  108875\n       0                   54377\n       4                   43050\n1      1                   87556\n       2                    4443\n       3                     773\n       4                     281\n       0                     209\nName: connectionType, dtype: int64\n"
     ]
    }
   ],
   "source": [
    "groupByLabel1=train[\"connectionType\"].groupby(train[\"label\"]).value_counts()\n",
    "print groupByLabel1"
   ]
  },
  {
   "cell_type": "code",
   "execution_count": 10,
   "metadata": {},
   "outputs": [],
   "source": [
    "groupByLabel1.to_csv(\"dataset/pre/label_connectionType.csv\")"
   ]
  },
  {
   "cell_type": "code",
   "execution_count": 5,
   "metadata": {
    "collapsed": false
   },
   "outputs": [
    {
     "name": "stdout",
     "output_type": "stream",
     "text": [
      "   label  connectionType    count\n0      0               1  2914503\n1      0               2   535461\n2      0               3   108875\n3      0               0    54377\n4      0               4    43050\n"
     ]
    }
   ],
   "source": [
    "groupByLabel1=pd.read_csv(\"dataset/pre/label_connectionType.csv\",names=[\"label\",\"connectionType\",\"count\"])\n",
    "print groupByLabel1.head()"
   ]
  },
  {
   "cell_type": "code",
   "execution_count": 13,
   "metadata": {
    "collapsed": true
   },
   "outputs": [
    {
     "name": "stdout",
     "output_type": "stream",
     "text": [
      "label                 0      1\nconnectionType                \n0                 54377    209\n1               2914503  87556\n2                535461   4443\n3                108875    773\n4                 43050    281\n"
     ]
    }
   ],
   "source": [
    "groupByLabelPic=groupByLabel1.pivot(index=\"connectionType\",columns=\"label\",values=\"count\")\n",
    "print groupByLabelPic.head()"
   ]
  },
  {
   "cell_type": "code",
   "execution_count": 15,
   "metadata": {},
   "outputs": [],
   "source": [
    "groupByLabelPic.plot(kind=\"bar\",stacked=True)\n",
    "plt.xlabel(\"connectionType\")\n",
    "plt.ylabel(\"count\")\n",
    "plt.savefig(\"dataset/pre/connectionType.png\")"
   ]
  },
  {
   "cell_type": "code",
   "execution_count": 16,
   "metadata": {},
   "outputs": [],
   "source": [
    "# check the user feature in the train data\n",
    "# groupby label 0,1 than draw line picture to get the feature\n",
    "label_grouped=train.groupby([\"label\",\"userID\"])\n",
    "plt=label_grouped[\"connectionType\"].plot()\n",
    "plt.savefig(\"data/pre\")"
   ]
  },
  {
   "cell_type": "code",
   "execution_count": 18,
   "metadata": {
    "collapsed": true
   },
   "outputs": [
    {
     "name": "stdout",
     "output_type": "stream",
     "text": [
      "label  telecomsOperator\n0      1                   2034786\n       3                    782933\n       2                    741243\n       0                     97304\n1      1                     45370\nName: telecomsOperator, dtype: int64\nlabel                   0      1\ntelecomsOperator                \n0                   97304   3239\n1                 2034786  45370\n2                  741243  24113\n3                  782933  20540\n"
     ]
    }
   ],
   "source": [
    "# train data relation between telecomsOperator and label\n",
    "groupByLabelTele=train[\"telecomsOperator\"].groupby(train[\"label\"]).value_counts()\n",
    "print groupByLabelTele.head()\n",
    "groupByLabelTele.to_csv(\"dataset/pre/label_telecomsOperator.csv\")\n",
    "groupByLabelTele=pd.read_csv(\"dataset/pre/label_telecomsOperator.csv\",names=[\"label\",\"telecomsOperator\",\"count\"])\n",
    "groupByLabelTelePic=groupByLabelTele.pivot(index=\"telecomsOperator\",columns=\"label\",values=\"count\")\n",
    "print groupByLabelTelePic"
   ]
  },
  {
   "cell_type": "code",
   "execution_count": 22,
   "metadata": {},
   "outputs": [],
   "source": [
    "groupByLabelTelePic.plot(kind=\"bar\",figsize=(8,8))\n",
    "plt.xlabel(\"telecomsOperator\")\n",
    "plt.ylabel(\"count\")\n",
    "plt.text(3,1500000,\"0: ,1: ,2: ,3\")\n",
    "plt.savefig(\"dataset/pre/telecomsOperator.png\")"
   ]
  },
  {
   "cell_type": "code",
   "execution_count": 32,
   "metadata": {
    "collapsed": true
   },
   "outputs": [
    {
     "name": "stdout",
     "output_type": "stream",
     "text": [
      "label  positionID\n0      2579          365045\n       3322          322395\n       2150          150136\n       4867           92636\n       3688           75995\nName: positionID, dtype: int64\n   label  positionID   count\n0      0        2579  365045\n1      0        3322  322395\n2      0        2150  150136\n3      0        4867   92636\n4      0        3688   75995\n"
     ]
    }
   ],
   "source": [
    "# train data relation between telecomsOperator and label\n",
    "groupByLabelPos=train[\"positionID\"].groupby(train[\"label\"]).value_counts()\n",
    "print groupByLabelPos.head()\n",
    "groupByLabelPos.to_csv(\"dataset/pre/label_positionID.csv\")\n",
    "groupByLabelPos=pd.read_csv(\"dataset/pre/label_positionID.csv\",names=[\"label\",\"positionID\",\"count\"])\n",
    "print groupByLabelPos.head()"
   ]
  },
  {
   "cell_type": "code",
   "execution_count": null,
   "metadata": {},
   "outputs": [],
   "source": [
    "groupByLabelPosPic=groupByLabelPos.pivot(index=\"positionID\",columns=\"label\",values=\"count\")\n",
    "groupByLabelPosPic.fillna(0)\n",
    "print groupByLabelPosPic.head()"
   ]
  },
  {
   "cell_type": "code",
   "execution_count": null,
   "metadata": {},
   "outputs": [],
   "source": [
    "print groupByLabelPos"
   ]
  },
  {
   "cell_type": "code",
   "execution_count": 29,
   "metadata": {},
   "outputs": [],
   "source": [
    "groupByLabelPosPic.plot(kind=\"bar\")\n",
    "plt.xlabel(\"positionID\")\n",
    "plt.ylabel(\"count\")\n",
    "\n",
    "plt.savefig(\"dataset/pre/image/positionID.png\")"
   ]
  },
  {
   "cell_type": "code",
   "execution_count": null,
   "metadata": {},
   "outputs": [],
   "source": [
    ""
   ]
  }
 ],
 "metadata": {
  "kernelspec": {
   "display_name": "Python 2",
   "language": "python",
   "name": "python2"
  },
  "language_info": {
   "codemirror_mode": {
    "name": "ipython",
    "version": 2.0
   },
   "file_extension": ".py",
   "mimetype": "text/x-python",
   "name": "python",
   "nbconvert_exporter": "python",
   "pygments_lexer": "ipython2",
   "version": "2.7.13"
  }
 },
 "nbformat": 4,
 "nbformat_minor": 0
}