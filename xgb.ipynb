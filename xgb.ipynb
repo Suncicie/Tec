{
 "cells": [
  {
   "cell_type": "code",
   "execution_count": 1,
   "metadata": {
    "collapsed": true
   },
   "outputs": [
    {
     "name": "stdout",
     "output_type": "stream",
     "text": [
      "/Users/suncicie/Study/Project/DataMining/Competition/Tecent\n"
     ]
    }
   ],
   "source": [
    "import os\n",
    "os.chdir(\"/Users/suncicie/Study/Project/DataMining/Competition/Tecent\")# 将当前目录更换到此目录下\n",
    "print os.getcwd()"
   ]
  },
  {
   "cell_type": "code",
   "execution_count": 3,
   "metadata": {
    "collapsed": true
   },
   "outputs": [],
   "source": [
    "import numpy as np\n",
    "import pandas as pd\n",
    "import xgboost as xgb\n",
    "from sklearn.cross_validation import train_test_split\n",
    "import time\n",
    "start_time=time.time()"
   ]
  },
  {
   "cell_type": "code",
   "execution_count": 4,
   "metadata": {},
   "outputs": [],
   "source": [
    "train=pd.read_csv(\"dataset/pre/train_user_position_ad.csv\")\n",
    "test=pd.read_csv(\"dataset/pre/test_user_position_ad.csv\")"
   ]
  },
  {
   "cell_type": "code",
   "execution_count": 5,
   "metadata": {
    "collapsed": true
   },
   "outputs": [
    {
     "name": "stdout",
     "output_type": "stream",
     "text": [
      "   Unnamed: 0  label  clickTime  creativeID   userID  positionID  \\\n0           0      0     170000        3089  2798058         293   \n1           1      0     170000        1259   463234        6161   \n2           2      0     170000        4465  1857485        7434   \n3           3      0     170000        1004  2038823         977   \n4           4      0     170000        1887  2015141        3688   \n\n   connectionType  telecomsOperator  age  gender     ...       haveBaby  \\\n0               1                 1   25       2     ...              1   \n1               1                 2   20       2     ...              0   \n2               4                 1   16       1     ...              0   \n3               1                 1    0       0     ...              0   \n4               1                 1   35       1     ...              0   \n\n   hometown  residence  sitesetID  positionType  adID  camgaignID  \\\n0         0       1301          0             3  1321          83   \n1         0        213          0             1  1535         685   \n2         0       1502          0             1   147         460   \n3         0       1001          0             1   411         564   \n4      1001       1001          0             1   369         144   \n\n   advertiserID  appID  appPlatform  \n0            10    434            1  \n1            80     14            2  \n2             3    465            1  \n3             3    465            1  \n4            84    360            1  \n\n[5 rows x 22 columns]\n   Unnamed: 0  instanceID  clickTime  creativeID   userID  positionID  \\\n0           0           1     310000        3745  1164848        3451   \n1           1           2     310000        2284  2127247        1613   \n2           2           3     310000        1456  2769125        5510   \n3           3           4     310000        4565     9762        4113   \n4           4           5     310000          49  2513636        3615   \n\n   connectionType  telecomsOperator  age  gender     ...       haveBaby  \\\n0               1                 3   29       2     ...              1   \n1               1                 3   23       2     ...              0   \n2               2                 1   28       1     ...              0   \n3               2                 3   23       1     ...              0   \n4               1                 3    9       2     ...              0   \n\n   hometown  residence  sitesetID  positionType  adID  camgaignID  \\\n0       605        605          0             1  1166         430   \n1      2205       2301          0             1  1388         325   \n2         0       1502          0             1  3379         411   \n3      2405       2407          0             1  3593         632   \n4       307        307          0             1  1469         535   \n\n   advertiserID  appID  appPlatform  \n0            80     14            2  \n1            80     14            2  \n2             3    465            1  \n3             3    465            1  \n4            80     14            2  \n\n[5 rows x 22 columns]\n"
     ]
    }
   ],
   "source": [
    "print train.head()\n",
    "print test.head()"
   ]
  },
  {
   "cell_type": "code",
   "execution_count": 6,
   "metadata": {},
   "outputs": [
    {
     "name": "stdout",
     "output_type": "stream",
     "text": [
      "Index([u'label', u'clickTime', u'creativeID', u'userID', u'positionID',\n       u'connectionType', u'telecomsOperator', u'age', u'gender', u'education',\n       u'marriageStatus', u'haveBaby', u'hometown', u'residence', u'sitesetID',\n       u'positionType', u'adID', u'camgaignID', u'advertiserID', u'appID',\n       u'appPlatform'],\n      dtype='object')\nIndex([u'instanceID', u'clickTime', u'creativeID', u'userID', u'positionID',\n       u'connectionType', u'telecomsOperator', u'age', u'gender', u'education',\n       u'marriageStatus', u'haveBaby', u'hometown', u'residence', u'sitesetID',\n       u'positionType', u'adID', u'camgaignID', u'advertiserID', u'appID',\n       u'appPlatform'],\n      dtype='object')\n"
     ]
    }
   ],
   "source": [
    "del train[train.columns[0]]\n",
    "del test[test.columns[0]]\n",
    "print train.columns\n",
    "print test.columns"
   ]
  },
  {
   "cell_type": "code",
   "execution_count": 9,
   "metadata": {},
   "outputs": [
    {
     "name": "stdout",
     "output_type": "stream",
     "text": [
      "21\n20\n"
     ]
    }
   ],
   "source": [
    "print len(train.columns)\n",
    "print len(test.columns)"
   ]
  },
  {
   "cell_type": "code",
   "execution_count": 8,
   "metadata": {},
   "outputs": [],
   "source": [
    "del test[\"instanceID\"]"
   ]
  },
  {
   "cell_type": "code",
   "execution_count": 26,
   "metadata": {
    "collapsed": true
   },
   "outputs": [
    {
     "name": "stdout",
     "output_type": "stream",
     "text": [
      "   label  clickTime  creativeID   userID  positionID  connectionType  \\\n0      0     170000        3089  2798058         293               1   \n1      0     170000        1259   463234        6161               1   \n2      0     170000        4465  1857485        7434               4   \n3      0     170000        1004  2038823         977               1   \n4      0     170000        1887  2015141        3688               1   \n\n   telecomsOperator  \n0                 1  \n1                 2  \n2                 1  \n3                 1  \n4                 1  \n"
     ]
    }
   ],
   "source": [
    "del train[\"conversionTime\"]\n",
    "print train.head()"
   ]
  },
  {
   "cell_type": "code",
   "execution_count": 35,
   "metadata": {
    "collapsed": true
   },
   "outputs": [
    {
     "name": "stdout",
     "output_type": "stream",
     "text": [
      "   clickTime  creativeID   userID  positionID  connectionType  \\\n0     310000        3745  1164848        3451               1   \n1     310000        2284  2127247        1613               1   \n2     310000        1456  2769125        5510               2   \n3     310000        4565     9762        4113               2   \n4     310000          49  2513636        3615               1   \n\n   telecomsOperator  \n0                 3  \n1                 3  \n2                 1  \n3                 3  \n4                 3  \n"
     ]
    }
   ],
   "source": [
    "del test[\"label\"]\n",
    "del test[\"instanceID\"]\n",
    "print test.head()"
   ]
  },
  {
   "cell_type": "code",
   "execution_count": 10,
   "metadata": {},
   "outputs": [],
   "source": [
    "# split the train data\n",
    "train_xy,val=train_test_split(train,test_size=0.3,random_state=1)\n",
    "y=train_xy.label\n",
    "X=train_xy.drop([\"label\"],axis=1)\n",
    "val_y=val.label\n",
    "val_X=val.drop([\"label\"],axis=1)\n",
    "\n",
    "# create xgb matrix\n",
    "xgb_val=xgb.DMatrix(val_X,label=val_y)\n",
    "xgb_train=xgb.DMatrix(X,label=y)"
   ]
  },
  {
   "cell_type": "code",
   "execution_count": 11,
   "metadata": {},
   "outputs": [],
   "source": [
    "xgb_test=xgb.DMatrix(test)"
   ]
  },
  {
   "cell_type": "code",
   "execution_count": 16,
   "metadata": {},
   "outputs": [
    {
     "name": "stdout",
     "output_type": "stream",
     "text": [
      "2624669\n1124859\n"
     ]
    }
   ],
   "source": [
    "print len(train_xy)\n",
    "print len(val)"
   ]
  },
  {
   "cell_type": "code",
   "execution_count": 21,
   "metadata": {},
   "outputs": [],
   "source": [
    "# find the scale param\n",
    "pos_sum=train[\"label\"].sum()"
   ]
  },
  {
   "cell_type": "code",
   "execution_count": 23,
   "metadata": {},
   "outputs": [
    {
     "name": "stdout",
     "output_type": "stream",
     "text": [
      "3656266\n"
     ]
    }
   ],
   "source": [
    "neg_sum=len(train[train[\"label\"]==0])\n",
    "print neg_sum"
   ]
  },
  {
   "cell_type": "code",
   "execution_count": 24,
   "metadata": {},
   "outputs": [
    {
     "name": "stdout",
     "output_type": "stream",
     "text": [
      "3749528\n"
     ]
    }
   ],
   "source": [
    "print len(train)"
   ]
  },
  {
   "cell_type": "code",
   "execution_count": 22,
   "metadata": {},
   "outputs": [
    {
     "name": "stdout",
     "output_type": "stream",
     "text": [
      "93262\n"
     ]
    }
   ],
   "source": [
    "print pos_sum"
   ]
  },
  {
   "cell_type": "code",
   "execution_count": 27,
   "metadata": {},
   "outputs": [
    {
     "name": "stdout",
     "output_type": "stream",
     "text": [
      "0.0255074439332\n"
     ]
    }
   ],
   "source": [
    "scale_pos_weight=float(pos_sum)/neg_sum\n",
    "print scale_pos_weight"
   ]
  },
  {
   "cell_type": "code",
   "execution_count": 12,
   "metadata": {
    "collapsed": true
   },
   "outputs": [
    {
     "name": "stdout",
     "output_type": "stream",
     "text": [
      "[0]\ttrain-error:0.02489\tval-error:0.024842\n"
     ]
    },
    {
     "name": "stdout",
     "output_type": "stream",
     "text": [
      "Multiple eval metrics have been passed: 'val-error' will be used for early stopping.\n\n"
     ]
    },
    {
     "name": "stdout",
     "output_type": "stream",
     "text": [
      "Will train until val-error hasn't improved in 100 rounds.\n"
     ]
    },
    {
     "name": "stdout",
     "output_type": "stream",
     "text": [
      "[1]\ttrain-error:0.024901\tval-error:0.024792\n"
     ]
    },
    {
     "name": "stdout",
     "output_type": "stream",
     "text": [
      "[2]\ttrain-error:0.024906\tval-error:0.024776\n"
     ]
    },
    {
     "name": "stdout",
     "output_type": "stream",
     "text": [
      "[3]\ttrain-error:0.024908\tval-error:0.024776\n"
     ]
    },
    {
     "name": "stdout",
     "output_type": "stream",
     "text": [
      "[4]\ttrain-error:0.024908\tval-error:0.024772\n"
     ]
    },
    {
     "name": "stdout",
     "output_type": "stream",
     "text": [
      "[5]\ttrain-error:0.024908\tval-error:0.024773\n"
     ]
    },
    {
     "name": "stdout",
     "output_type": "stream",
     "text": [
      "[6]\ttrain-error:0.024909\tval-error:0.024768\n"
     ]
    },
    {
     "name": "stdout",
     "output_type": "stream",
     "text": [
      "[7]\ttrain-error:0.024909\tval-error:0.024772\n"
     ]
    },
    {
     "name": "stdout",
     "output_type": "stream",
     "text": [
      "[8]\ttrain-error:0.024909\tval-error:0.024769\n"
     ]
    },
    {
     "name": "stdout",
     "output_type": "stream",
     "text": [
      "[9]\ttrain-error:0.024909\tval-error:0.024769\n"
     ]
    },
    {
     "name": "stdout",
     "output_type": "stream",
     "text": [
      "[10]\ttrain-error:0.024908\tval-error:0.024768\n"
     ]
    },
    {
     "name": "stdout",
     "output_type": "stream",
     "text": [
      "[11]\ttrain-error:0.024908\tval-error:0.024768\n"
     ]
    },
    {
     "name": "stdout",
     "output_type": "stream",
     "text": [
      "[12]\ttrain-error:0.024905\tval-error:0.024771\n"
     ]
    },
    {
     "name": "stdout",
     "output_type": "stream",
     "text": [
      "[13]\ttrain-error:0.024906\tval-error:0.02477\n"
     ]
    },
    {
     "name": "stdout",
     "output_type": "stream",
     "text": [
      "[14]\ttrain-error:0.024905\tval-error:0.024771\n"
     ]
    },
    {
     "name": "stdout",
     "output_type": "stream",
     "text": [
      "[15]\ttrain-error:0.024906\tval-error:0.024772\n"
     ]
    },
    {
     "name": "stdout",
     "output_type": "stream",
     "text": [
      "[16]\ttrain-error:0.024906\tval-error:0.024773\n"
     ]
    },
    {
     "name": "stdout",
     "output_type": "stream",
     "text": [
      "[17]\ttrain-error:0.024906\tval-error:0.024771\n"
     ]
    },
    {
     "name": "stdout",
     "output_type": "stream",
     "text": [
      "[18]\ttrain-error:0.024907\tval-error:0.024772\n"
     ]
    },
    {
     "name": "stdout",
     "output_type": "stream",
     "text": [
      "[19]\ttrain-error:0.024906\tval-error:0.024775\n"
     ]
    },
    {
     "name": "stdout",
     "output_type": "stream",
     "text": [
      "[20]\ttrain-error:0.024906\tval-error:0.024774\n"
     ]
    },
    {
     "name": "stdout",
     "output_type": "stream",
     "text": [
      "[21]\ttrain-error:0.024905\tval-error:0.024774\n"
     ]
    },
    {
     "name": "stdout",
     "output_type": "stream",
     "text": [
      "[22]\ttrain-error:0.024906\tval-error:0.024774\n"
     ]
    },
    {
     "name": "stdout",
     "output_type": "stream",
     "text": [
      "[23]\ttrain-error:0.024906\tval-error:0.024774\n"
     ]
    },
    {
     "name": "stdout",
     "output_type": "stream",
     "text": [
      "[24]\ttrain-error:0.024906\tval-error:0.024774\n"
     ]
    },
    {
     "name": "stdout",
     "output_type": "stream",
     "text": [
      "[25]\ttrain-error:0.024909\tval-error:0.024774\n"
     ]
    },
    {
     "name": "stdout",
     "output_type": "stream",
     "text": [
      "[26]\ttrain-error:0.024909\tval-error:0.024774\n"
     ]
    },
    {
     "name": "stdout",
     "output_type": "stream",
     "text": [
      "[27]\ttrain-error:0.02491\tval-error:0.024774\n"
     ]
    },
    {
     "name": "stdout",
     "output_type": "stream",
     "text": [
      "[28]\ttrain-error:0.024911\tval-error:0.024775\n"
     ]
    },
    {
     "name": "stdout",
     "output_type": "stream",
     "text": [
      "[29]\ttrain-error:0.02491\tval-error:0.024775\n"
     ]
    },
    {
     "name": "stdout",
     "output_type": "stream",
     "text": [
      "[30]\ttrain-error:0.024909\tval-error:0.024774\n"
     ]
    },
    {
     "name": "stdout",
     "output_type": "stream",
     "text": [
      "[31]\ttrain-error:0.024908\tval-error:0.024775\n"
     ]
    },
    {
     "name": "stdout",
     "output_type": "stream",
     "text": [
      "[32]\ttrain-error:0.024908\tval-error:0.024774\n"
     ]
    },
    {
     "name": "stdout",
     "output_type": "stream",
     "text": [
      "[33]\ttrain-error:0.024906\tval-error:0.024775\n"
     ]
    },
    {
     "name": "stdout",
     "output_type": "stream",
     "text": [
      "[34]\ttrain-error:0.024907\tval-error:0.024775\n"
     ]
    },
    {
     "name": "stdout",
     "output_type": "stream",
     "text": [
      "[35]\ttrain-error:0.024906\tval-error:0.024775\n"
     ]
    },
    {
     "name": "stdout",
     "output_type": "stream",
     "text": [
      "[36]\ttrain-error:0.024905\tval-error:0.024775\n"
     ]
    },
    {
     "name": "stdout",
     "output_type": "stream",
     "text": [
      "[37]\ttrain-error:0.024904\tval-error:0.024776\n"
     ]
    },
    {
     "name": "stdout",
     "output_type": "stream",
     "text": [
      "[38]\ttrain-error:0.024904\tval-error:0.024776\n"
     ]
    },
    {
     "name": "stdout",
     "output_type": "stream",
     "text": [
      "[39]\ttrain-error:0.024903\tval-error:0.024776\n"
     ]
    },
    {
     "name": "stdout",
     "output_type": "stream",
     "text": [
      "[40]\ttrain-error:0.024903\tval-error:0.024775\n"
     ]
    },
    {
     "name": "stdout",
     "output_type": "stream",
     "text": [
      "[41]\ttrain-error:0.024902\tval-error:0.024775\n"
     ]
    },
    {
     "name": "stdout",
     "output_type": "stream",
     "text": [
      "[42]\ttrain-error:0.024902\tval-error:0.024775\n"
     ]
    },
    {
     "name": "stdout",
     "output_type": "stream",
     "text": [
      "[43]\ttrain-error:0.024901\tval-error:0.024774\n"
     ]
    },
    {
     "name": "stdout",
     "output_type": "stream",
     "text": [
      "[44]\ttrain-error:0.024901\tval-error:0.024775\n"
     ]
    },
    {
     "name": "stdout",
     "output_type": "stream",
     "text": [
      "[45]\ttrain-error:0.024901\tval-error:0.024774\n"
     ]
    },
    {
     "name": "stdout",
     "output_type": "stream",
     "text": [
      "[46]\ttrain-error:0.0249\tval-error:0.024776\n"
     ]
    },
    {
     "name": "stdout",
     "output_type": "stream",
     "text": [
      "[47]\ttrain-error:0.024899\tval-error:0.024776\n"
     ]
    },
    {
     "name": "stdout",
     "output_type": "stream",
     "text": [
      "[48]\ttrain-error:0.024898\tval-error:0.024777\n"
     ]
    },
    {
     "name": "stdout",
     "output_type": "stream",
     "text": [
      "[49]\ttrain-error:0.024897\tval-error:0.024777\n"
     ]
    },
    {
     "name": "stdout",
     "output_type": "stream",
     "text": [
      "[50]\ttrain-error:0.024897\tval-error:0.024776\n"
     ]
    },
    {
     "name": "stdout",
     "output_type": "stream",
     "text": [
      "[51]\ttrain-error:0.024897\tval-error:0.024777\n"
     ]
    },
    {
     "name": "stdout",
     "output_type": "stream",
     "text": [
      "[52]\ttrain-error:0.024897\tval-error:0.024776\n"
     ]
    },
    {
     "name": "stdout",
     "output_type": "stream",
     "text": [
      "[53]\ttrain-error:0.024896\tval-error:0.024776\n"
     ]
    },
    {
     "name": "stdout",
     "output_type": "stream",
     "text": [
      "[54]\ttrain-error:0.024896\tval-error:0.024776\n"
     ]
    },
    {
     "name": "stdout",
     "output_type": "stream",
     "text": [
      "[55]\ttrain-error:0.024895\tval-error:0.024777\n"
     ]
    },
    {
     "name": "stdout",
     "output_type": "stream",
     "text": [
      "[56]\ttrain-error:0.024895\tval-error:0.024777\n"
     ]
    },
    {
     "name": "stdout",
     "output_type": "stream",
     "text": [
      "[57]\ttrain-error:0.024895\tval-error:0.024777\n"
     ]
    },
    {
     "name": "stdout",
     "output_type": "stream",
     "text": [
      "[58]\ttrain-error:0.024897\tval-error:0.024776\n"
     ]
    },
    {
     "name": "stdout",
     "output_type": "stream",
     "text": [
      "[59]\ttrain-error:0.024898\tval-error:0.024776\n"
     ]
    },
    {
     "name": "stdout",
     "output_type": "stream",
     "text": [
      "[60]\ttrain-error:0.024898\tval-error:0.024776\n"
     ]
    },
    {
     "name": "stdout",
     "output_type": "stream",
     "text": [
      "[61]\ttrain-error:0.024898\tval-error:0.024776\n"
     ]
    },
    {
     "name": "stdout",
     "output_type": "stream",
     "text": [
      "[62]\ttrain-error:0.024898\tval-error:0.024776\n"
     ]
    },
    {
     "name": "stdout",
     "output_type": "stream",
     "text": [
      "[63]\ttrain-error:0.024898\tval-error:0.024776\n"
     ]
    },
    {
     "name": "stdout",
     "output_type": "stream",
     "text": [
      "[64]\ttrain-error:0.024897\tval-error:0.024777\n"
     ]
    },
    {
     "name": "stdout",
     "output_type": "stream",
     "text": [
      "[65]\ttrain-error:0.024897\tval-error:0.024778\n"
     ]
    },
    {
     "name": "stdout",
     "output_type": "stream",
     "text": [
      "[66]\ttrain-error:0.024898\tval-error:0.024778\n"
     ]
    },
    {
     "name": "stdout",
     "output_type": "stream",
     "text": [
      "[67]\ttrain-error:0.024898\tval-error:0.024778\n"
     ]
    },
    {
     "name": "stdout",
     "output_type": "stream",
     "text": [
      "[68]\ttrain-error:0.0249\tval-error:0.024776\n"
     ]
    },
    {
     "name": "stdout",
     "output_type": "stream",
     "text": [
      "[69]\ttrain-error:0.024903\tval-error:0.024776\n"
     ]
    },
    {
     "name": "stdout",
     "output_type": "stream",
     "text": [
      "[70]\ttrain-error:0.024902\tval-error:0.024776\n"
     ]
    },
    {
     "name": "stdout",
     "output_type": "stream",
     "text": [
      "[71]\ttrain-error:0.024903\tval-error:0.024776\n"
     ]
    },
    {
     "name": "stdout",
     "output_type": "stream",
     "text": [
      "[72]\ttrain-error:0.024903\tval-error:0.024776\n"
     ]
    },
    {
     "name": "stdout",
     "output_type": "stream",
     "text": [
      "[73]\ttrain-error:0.0249\tval-error:0.024776\n"
     ]
    },
    {
     "name": "stdout",
     "output_type": "stream",
     "text": [
      "[74]\ttrain-error:0.024899\tval-error:0.024776\n"
     ]
    },
    {
     "name": "stdout",
     "output_type": "stream",
     "text": [
      "[75]\ttrain-error:0.0249\tval-error:0.024776\n"
     ]
    },
    {
     "name": "stdout",
     "output_type": "stream",
     "text": [
      "[76]\ttrain-error:0.0249\tval-error:0.024776\n"
     ]
    },
    {
     "name": "stdout",
     "output_type": "stream",
     "text": [
      "[77]\ttrain-error:0.024903\tval-error:0.024776\n"
     ]
    },
    {
     "name": "stdout",
     "output_type": "stream",
     "text": [
      "[78]\ttrain-error:0.024901\tval-error:0.024775\n"
     ]
    },
    {
     "name": "stdout",
     "output_type": "stream",
     "text": [
      "[79]\ttrain-error:0.024901\tval-error:0.024775\n"
     ]
    },
    {
     "name": "stdout",
     "output_type": "stream",
     "text": [
      "[80]\ttrain-error:0.024901\tval-error:0.024775\n"
     ]
    },
    {
     "name": "stdout",
     "output_type": "stream",
     "text": [
      "[81]\ttrain-error:0.024901\tval-error:0.024775\n"
     ]
    },
    {
     "name": "stdout",
     "output_type": "stream",
     "text": [
      "[82]\ttrain-error:0.0249\tval-error:0.024775\n"
     ]
    },
    {
     "name": "stdout",
     "output_type": "stream",
     "text": [
      "[83]\ttrain-error:0.024901\tval-error:0.024775\n"
     ]
    },
    {
     "name": "stdout",
     "output_type": "stream",
     "text": [
      "[84]\ttrain-error:0.024901\tval-error:0.024775\n"
     ]
    },
    {
     "name": "stdout",
     "output_type": "stream",
     "text": [
      "[85]\ttrain-error:0.024901\tval-error:0.024775\n"
     ]
    },
    {
     "name": "stdout",
     "output_type": "stream",
     "text": [
      "[86]\ttrain-error:0.024899\tval-error:0.024776\n"
     ]
    },
    {
     "name": "stdout",
     "output_type": "stream",
     "text": [
      "[87]\ttrain-error:0.0249\tval-error:0.024776\n"
     ]
    },
    {
     "name": "stdout",
     "output_type": "stream",
     "text": [
      "[88]\ttrain-error:0.0249\tval-error:0.024776\n"
     ]
    },
    {
     "name": "stdout",
     "output_type": "stream",
     "text": [
      "[89]\ttrain-error:0.0249\tval-error:0.024776\n"
     ]
    },
    {
     "name": "stdout",
     "output_type": "stream",
     "text": [
      "[90]\ttrain-error:0.0249\tval-error:0.024777\n"
     ]
    },
    {
     "name": "stdout",
     "output_type": "stream",
     "text": [
      "[91]\ttrain-error:0.0249\tval-error:0.024777\n"
     ]
    },
    {
     "name": "stdout",
     "output_type": "stream",
     "text": [
      "[92]\ttrain-error:0.0249\tval-error:0.024777\n"
     ]
    },
    {
     "name": "stdout",
     "output_type": "stream",
     "text": [
      "[93]\ttrain-error:0.0249\tval-error:0.024776\n"
     ]
    },
    {
     "name": "stdout",
     "output_type": "stream",
     "text": [
      "[94]\ttrain-error:0.0249\tval-error:0.024776\n"
     ]
    },
    {
     "name": "stdout",
     "output_type": "stream",
     "text": [
      "[95]\ttrain-error:0.0249\tval-error:0.024776\n"
     ]
    },
    {
     "name": "stdout",
     "output_type": "stream",
     "text": [
      "[96]\ttrain-error:0.0249\tval-error:0.024776\n"
     ]
    },
    {
     "name": "stdout",
     "output_type": "stream",
     "text": [
      "[97]\ttrain-error:0.0249\tval-error:0.024776\n"
     ]
    },
    {
     "name": "stdout",
     "output_type": "stream",
     "text": [
      "[98]\ttrain-error:0.0249\tval-error:0.024776\n"
     ]
    },
    {
     "name": "stdout",
     "output_type": "stream",
     "text": [
      "[99]\ttrain-error:0.024899\tval-error:0.024775\n"
     ]
    },
    {
     "name": "stdout",
     "output_type": "stream",
     "text": [
      "[100]\ttrain-error:0.0249\tval-error:0.024775\n"
     ]
    },
    {
     "name": "stdout",
     "output_type": "stream",
     "text": [
      "[101]\ttrain-error:0.0249\tval-error:0.024775\n"
     ]
    },
    {
     "name": "stdout",
     "output_type": "stream",
     "text": [
      "[102]\ttrain-error:0.0249\tval-error:0.024775\n"
     ]
    },
    {
     "name": "stdout",
     "output_type": "stream",
     "text": [
      "[103]\ttrain-error:0.0249\tval-error:0.024775\n"
     ]
    },
    {
     "name": "stdout",
     "output_type": "stream",
     "text": [
      "[104]\ttrain-error:0.0249\tval-error:0.024775\n"
     ]
    },
    {
     "name": "stdout",
     "output_type": "stream",
     "text": [
      "[105]\ttrain-error:0.0249\tval-error:0.024775\n"
     ]
    },
    {
     "name": "stdout",
     "output_type": "stream",
     "text": [
      "[106]\ttrain-error:0.0249\tval-error:0.024775\n"
     ]
    },
    {
     "name": "stdout",
     "output_type": "stream",
     "text": [
      "Stopping. Best iteration:\n[6]\ttrain-error:0.024909\tval-error:0.024768\n\n"
     ]
    },
    {
     "name": "stdout",
     "output_type": "stream",
     "text": [
      "best best_ntree_limit 7\n"
     ]
    }
   ],
   "source": [
    "params={\n",
    "    \"booster\":\"gbtree\",\n",
    "    \"objective\":\"binary:logistic\",\n",
    "    \"gamma\":0.1,\n",
    "    \"max_depth\":10,\n",
    "    \"lambda\":2,\n",
    "    \"subsample\":0.8, #it has been divided before\n",
    "    \"colsample_bytree\":0.7,# may be need for tree\n",
    "    \"min_child_weight\":1,\n",
    "    \"silent\":0,\n",
    "    \"eta\":0.05,\n",
    "    \"seed\":1000,\n",
    "    \"scale_pos_weight\":1 # best set for n/r\n",
    "}\n",
    "plst=list(params.items())\n",
    "num_rounds=5000\n",
    "watchlist=[(xgb_train,\"train\"),(xgb_val,\"val\")]\n",
    "\n",
    "model = xgb.train(plst, xgb_train, num_rounds, watchlist,early_stopping_rounds=100)\n",
    "model.save_model('dataset/pre/xgb1.model')\n",
    "print \"best best_ntree_limit\",model.best_ntree_limit"
   ]
  },
  {
   "cell_type": "code",
   "execution_count": null,
   "metadata": {},
   "outputs": [],
   "source": [
    ""
   ]
  },
  {
   "cell_type": "code",
   "execution_count": 13,
   "metadata": {
    "collapsed": true
   },
   "outputs": [
    {
     "name": "stdout",
     "output_type": "stream",
     "text": [
      "xgboost success! \ncost time: 2895.35550809 (s)......\n"
     ]
    }
   ],
   "source": [
    "preds=model.predict(xgb_test,ntree_limit=model.best_ntree_limit)\n",
    "np.savetxt(\"dataset/pre/xgb_submission3.csv\",np.c_[range(1,len(test)+1),preds],delimiter=',',header='instanceID,prob',comments='',fmt='%.4f')\n",
    "cost_time=time.time()-start_time\n",
    "print \"xgboost success!\",'\\n',\"cost time:\",cost_time,\"(s)......\""
   ]
  },
  {
   "cell_type": "code",
   "execution_count": 18,
   "metadata": {},
   "outputs": [
    {
     "ename": "SyntaxError",
     "evalue": "invalid syntax (<ipython-input-18-795bcb5747fe>, line 2)",
     "traceback": [
      "\u001b[0;36m  File \u001b[0;32m\"<ipython-input-18-795bcb5747fe>\"\u001b[0;36m, line \u001b[0;32m2\u001b[0m\n\u001b[0;31m    print '%.2f' a\u001b[0m\n\u001b[0m                 ^\u001b[0m\n\u001b[0;31mSyntaxError\u001b[0m\u001b[0;31m:\u001b[0m invalid syntax\n"
     ],
     "output_type": "error"
    }
   ],
   "source": [
    "a=0.233333\n",
    "print '%.2f' a"
   ]
  },
  {
   "cell_type": "code",
   "execution_count": 40,
   "metadata": {},
   "outputs": [
    {
     "name": "stdout",
     "output_type": "stream",
     "text": [
      "[0]\n"
     ]
    }
   ],
   "source": [
    "sub=pd.read_csv(\"xgb_submission.csv\")\n",
    "print sub[\"Prob\"].unique()"
   ]
  },
  {
   "cell_type": "code",
   "execution_count": 17,
   "metadata": {},
   "outputs": [
    {
     "name": "stdout",
     "output_type": "stream",
     "text": [
      "   instanceID  label  prob\n0           1     -1     0\n1           2     -1     0\n2           3     -1     0\n3           4     -1     0\n4           5     -1     0\n"
     ]
    },
    {
     "name": "stderr",
     "output_type": "stream",
     "text": [
      "/Users/suncicie/anaconda/lib/python2.7/site-packages/ipykernel/__main__.py:3: SettingWithCopyWarning: \nA value is trying to be set on a copy of a slice from a DataFrame.\nTry using .loc[row_indexer,col_indexer] = value instead\n\nSee the caveats in the documentation: http://pandas.pydata.org/pandas-docs/stable/indexing.html#indexing-view-versus-copy\n  app.launch_new_instance()\n"
     ]
    }
   ],
   "source": [
    "test=pd.read_csv(\"dataset/pre/test.csv\")\n",
    "sub_test=test[[test.columns[0],test.columns[1]]]\n",
    "sub_test[\"prob\"]=0\n",
    "print sub_test.head()"
   ]
  },
  {
   "cell_type": "code",
   "execution_count": 18,
   "metadata": {},
   "outputs": [
    {
     "name": "stdout",
     "output_type": "stream",
     "text": [
      "   instanceID  prob\n0           1     0\n1           2     0\n2           3     0\n3           4     0\n4           5     0\n"
     ]
    }
   ],
   "source": [
    "result=sub_test[[\"instanceID\",\"prob\"]]\n",
    "print result.head()\n",
    "result.to_csv(\"dataset/pre/result01.csv\")"
   ]
  },
  {
   "cell_type": "code",
   "execution_count": null,
   "metadata": {},
   "outputs": [],
   "source": [
    ""
   ]
  }
 ],
 "metadata": {
  "kernelspec": {
   "display_name": "Python 2",
   "language": "python",
   "name": "python2"
  },
  "language_info": {
   "codemirror_mode": {
    "name": "ipython",
    "version": 2.0
   },
   "file_extension": ".py",
   "mimetype": "text/x-python",
   "name": "python",
   "nbconvert_exporter": "python",
   "pygments_lexer": "ipython2",
   "version": "2.7.13"
  }
 },
 "nbformat": 4,
 "nbformat_minor": 0
}